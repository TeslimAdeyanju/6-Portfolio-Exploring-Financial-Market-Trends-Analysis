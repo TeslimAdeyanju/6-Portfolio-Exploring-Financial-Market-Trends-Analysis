{
 "cells": [
  {
   "cell_type": "markdown",
   "metadata": {},
   "source": [
    "# Stock Market Analysis and Prediction: Leveraging Data Science for Insights"
   ]
  },
  {
   "cell_type": "markdown",
   "metadata": {},
   "source": [
    "### Table of Contents\n",
    "\n",
    "By following this roadmap, readers can gain a comprehensive understanding of the stock market, learn how to leverage Data Science for financial analysis, and optimize investment strategies for maximum returns. Let's get started!\n",
    "\n",
    "1. [Introduction](#introduction)  \n",
    "\n",
    "2. [Data Collection and Preprocessing](#data-collection-and-preprocessing)  \n",
    "    - [key libraries](#stock-data-retrieval-with-apis)   \n",
    "   - [Stock Data Retrieval with APIs](#stock-data-retrieval-with-apis)  \n",
    "   - [Data Cleaning and Formatting](#data-cleaning-and-formatting)  \n",
    "   - [Feature Engineering for Machine Learning](#feature-engineering-for-machine-learning)  \n",
    "     - [Technical Indicators](#technical-indicators)  \n",
    "     - [Fundamental Metrics](#fundamental-metrics)  \n",
    "   - [Exploratory Data Analysis (EDA)](#exploratory-data-analysis-eda)  \n",
    "     - [Cumulative Returns](#cumulative-returns)  \n",
    "     - [Skewness and Kurtosis](#skewness-and-kurtosis)  \n",
    "     - [Pairplots and Correlation Matrix](#pairplots-and-correlation-matrix)  \n",
    "\n",
    "3. [Descriptive Financial Metrics](#descriptive-financial-metrics)  \n",
    "   - [Performance Metrics](#performance-metrics)  \n",
    "     - [Beta and Alpha](#beta-and-alpha)  \n",
    "     - [Sharpe Ratio](#sharpe-ratio)  \n",
    "   - [Risk Analysis and Volatility](#risk-analysis-and-volatility)  \n",
    "\n",
    "4. [Machine Learning for Financial Insights](#machine-learning-for-financial-insights)  \n",
    "   - [Predictive Modeling](#predictive-modeling)  \n",
    "     - [Stock Price Forecasting](#stock-price-forecasting)  \n",
    "     - [Volatility Prediction](#volatility-prediction)  \n",
    "   - [Classification Tasks](#classification-tasks)  \n",
    "     - [Stock Movement Prediction](#stock-movement-prediction)  \n",
    "     - [Risk Categorization](#risk-categorization)  \n",
    "   - [Clustering for Stock Grouping](#clustering-for-stock-grouping)  \n",
    "   - [Model Evaluation Metrics](#model-evaluation-metrics)  \n",
    "\n",
    "5. [Portfolio Optimization](#portfolio-optimization)  \n",
    "   - [What is a Portfolio?](#what-is-a-portfolio)  \n",
    "   - [Markowitz Mean-Variance Optimization](#markowitz-mean-variance-optimization)  \n",
    "   - [Black-Litterman Allocation Model](#black-litterman-allocation-model)  \n",
    "     - [Prior](#prior)  \n",
    "     - [Views](#views)  \n",
    "     - [Confidences](#confidences)  \n",
    "   - [Reinforcement Learning for Portfolio Optimization](#reinforcement-learning-for-portfolio-optimization)  \n",
    "\n",
    "6. [Backtesting Investment Strategies](#backtesting-investment-strategies)  \n",
    "   - [Technical Strategy Backtesting](#technical-strategy-backtesting)  \n",
    "     - [RSI and Moving Average Crossover](#rsi-and-moving-average-crossover)  \n",
    "     - [Hourly, Daily, and Weekly Data](#hourly-daily-and-weekly-data)  \n",
    "   - [Comparing ML-Based vs. Traditional Approaches](#comparing-ml-based-vs-traditional-approaches)  \n",
    "\n",
    "7. [Advanced Machine Learning Applications](#advanced-machine-learning-applications)  \n",
    "   - [Deep Learning for Sequential Data](#deep-learning-for-sequential-data)  \n",
    "   - [Anomaly Detection in Stock Behavior](#anomaly-detection-in-stock-behavior)  \n",
    "   - [Reinforcement Learning for Dynamic Strategies](#reinforcement-learning-for-dynamic-strategies)  \n",
    "\n",
    "8. [Insights and Conclusions](#insights-and-conclusions)  \n",
    "   - [Summary of Findings](#summary-of-findings)  \n",
    "   - [Actionable Insights for Investors](#actionable-insights-for-investors)  \n",
    "   - [Limitations and Future Work](#limitations-and-future-work)  \n"
   ]
  },
  {
   "cell_type": "markdown",
   "metadata": {},
   "source": [
    "# Introduction\n",
    "____"
   ]
  },
  {
   "cell_type": "markdown",
   "metadata": {},
   "source": [
    "This notebook explores the intersection of Data Science and finance through the analysis of stock data for four prominent technology companies: Apple (AAPL), Microsoft (MSFT), Google (GOOGL), and Amazon (AMZN).\n",
    "\n",
    "**Objective:**\n",
    "\n",
    "The primary objective of this project is to demonstrate how Python and Data Science techniques can be effectively utilized to analyze stock market trends, evaluate investment performance, and ultimately optimize investment strategies.\n",
    "\n",
    "**Problem Statement:**\n",
    "\n",
    "The stock market presents a complex and dynamic environment. Investors face numerous challenges, including:\n",
    "\n",
    "* **Identifying profitable investment opportunities:** Understanding market trends, evaluating company performance, and predicting future stock prices are crucial for making informed investment decisions.\n",
    "* **Managing risk:** Effectively assessing and mitigating investment risks is essential to protect capital and achieve long-term financial goals.\n",
    "* **Optimizing portfolio allocation:** Determining the optimal allocation of assets across different stocks and asset classes is a critical aspect of portfolio management.\n",
    "\n",
    "This project aims to address these challenges by:\n",
    "\n",
    "* **Collecting and analyzing historical stock data:** Utilizing APIs to retrieve stock prices, financial statements, and other relevant data.\n",
    "\n",
    "* **Employing data preprocessing and feature engineering techniques:** Cleaning, transforming, and creating new features from raw data to enhance analysis and model performance.\n",
    "\n",
    "* **Calculating key financial metrics:** Evaluating stock performance using metrics such as beta, alpha, Sharpe Ratio, and volatility.\n",
    "\n",
    "* **Implementing machine learning models:** Developing predictive models for stock price forecasting, volatility prediction, and stock movement classification.\n",
    "\n",
    "* **Optimizing portfolio allocation:** Applying portfolio optimization techniques, including Markowitz Mean-Variance Optimization and Black-Litterman allocation, to construct efficient portfolios.\n",
    "\n",
    "* **Backtesting investment strategies:** Evaluating the performance of different trading strategies, including technical analysis-based and machine learning-based approaches, using historical data.\n",
    "\n",
    "By following the steps outlined in this notebook, readers will gain a practical understanding of how Data Science can be applied to the financial domain, empowering them to make more informed investment decisions and potentially improve their investment outcomes."
   ]
  },
  {
   "cell_type": "markdown",
   "metadata": {},
   "source": [
    "\n",
    "\n",
    "\n",
    "\n",
    "As a finance data analyst, understanding how to analyze the stock market is a fundamental skill that bridges the gap between raw data and actionable financial insights. The purpose of this notebook is to demonstrate essential skills in financial analysis, leveraging Python and data science techniques to extract meaningful insights from stock market data. By diving into practical examples, this project aims to showcase how data-driven decisions can be applied in the real world to optimize investments and enhance portfolio management.\n",
    "\n",
    "For this analysis, I have carefully chosen four prominent stocks: **Apple (AAPL)**, **Microsoft (MSFT)**, **Google (Alphabet) (GOOGL)**, and **Amazon (AMZN)**. These companies share key characteristics that make them highly relevant for financial analysis:\n",
    "\n",
    "1. **Market Leaders**: These stocks belong to some of the largest companies in the world by market capitalization, dominating their respective industries—technology, e-commerce, and cloud computing.\n",
    "   \n",
    "2. **Innovation and Growth**: They are known for their consistent innovation and ability to adapt, making them pivotal players in driving technological and economic trends globally.\n",
    "\n",
    "3. **Broad Investor Interest**: Their stocks are widely traded and held by a diverse range of institutional and retail investors, making them representative of broader market movements.\n",
    "\n",
    "4. **Global Influence**: These companies operate on a global scale, impacting multiple sectors and economies, which adds complexity and richness to their market behavior.\n",
    "\n",
    "Through this analysis, I aim to provide a detailed exploration of their historical stock performance, identify key financial metrics, and develop predictive insights. The focus is not just on theoretical concepts but on practical, actionable results that showcase the power of combining finance and data science.\n"
   ]
  },
  {
   "cell_type": "markdown",
   "metadata": {},
   "source": []
  },
  {
   "cell_type": "markdown",
   "metadata": {},
   "source": [
    "# Data Collection and Preprocessing\n",
    "____"
   ]
  },
  {
   "cell_type": "markdown",
   "metadata": {},
   "source": [
    "## Key Libraries"
   ]
  },
  {
   "cell_type": "markdown",
   "metadata": {},
   "source": [
    "The success of this project hinges on leveraging powerful Python libraries that enable financial analysis, portfolio optimization, and technical analysis. These libraries form the backbone of the notebook, facilitating data retrieval, manipulation, visualization, and modeling. Below is an overview of the key libraries used and their specific contributions to the project:\n",
    "\n",
    "\n",
    "- **`yfinance`** \n",
    "  A popular library that provides access to historical stock price data, financial statements, and other key metrics for a wide range of stocks. It is a valuable resource for extracting stock data directly from Yahoo Finance for analysis.\n",
    "  ```python\n",
    "  !pip install yfinance\n",
    "  import yfinance as yf\n",
    "  ```\n",
    "\n",
    "- **`Quantstats`** \n",
    "  This library specializes in quantitative finance, offering tools for analyzing investment strategies, backtesting, and evaluating portfolio performance. It provides a comprehensive suite of functions for detailed financial analysis and visualization of key metrics.\n",
    "  ```python\n",
    "  !pip install quantstats\n",
    "  import quantstats as qs\n",
    "  ```\n",
    "\n",
    "\n",
    "- **`PyPortfolioOpt`**\n",
    "  This library focuses on portfolio optimization, enabling users to construct optimal portfolios based on various criteria such as risk, return, and constraints. It is a powerful tool for optimizing investment strategies, including mean-variance optimization and Black-Litterman models.\n",
    "\n",
    "  ```python\n",
    "  !pip install PyPortfolioOpt\n",
    "  from pypfopt.efficient_frontier import EfficientFrontier\n",
    "  from pypfopt import risk_models\n",
    "  from pypfopt import expected_returns\n",
    "  from pypfopt import plotting\n",
    "  ```\n",
    "\n",
    "\n",
    "- **`TA-Lib`** \n",
    "  A Technical Analysis Library (TA-Lib) offers a wide range of technical indicators for analyzing stock price data. It includes functions for calculating moving averages, RSI, MACD, Bollinger Bands, and other commonly used technical indicators.\n",
    "\n",
    "  ```python\n",
    "  !pip install TA-Lib\n",
    "  import talib\n",
    "  ```\n",
    "\n",
    "- **`Plotly`**\n",
    "  This library offers interactive visualization capabilities, allowing users to create dynamic and engaging plots for exploring stock data. It provides tools for creating interactive charts, dashboards, and visualizations.\n",
    "\n",
    "  ```python\n",
    "  !pip install plotly\n",
    "  import plotly.express as px\n",
    "  import plotly.graph_objects as go\n",
    "  ```\n",
    "\n",
    "Other commonly used libraries: \n",
    "\n",
    "- **`Pandas`**\n",
    "  This library is essential for data manipulation and analysis, allowing us to handle and preprocess stock data efficiently. It provides powerful data structures and functions for cleaning, transforming, and analyzing financial data.\n",
    "\n",
    "- **`Numpy`**\n",
    "  A fundamental library for numerical computing, Numpy provides support for large, multi-dimensional arrays and matrices, along with a collection of mathematical functions to operate on these arrays.\n",
    "\n",
    "- **`Matplotlib and Seaborn`**\n",
    "  This combination of libraries is used for data visualization, enabling the creation of informative plots, charts, and graphs to visualize trends, patterns, and relationships in the stock data.\n",
    "\n",
    "- **`Scikit-Learn`**\n",
    "  A machine learning library that provides a wide range of tools for building predictive models, evaluating performance, and optimizing parameters. It includes functions for regression, classification, clustering, and model evaluation.\n",
    "\n",
    "By combining these libraries with Python's robust data science capabilities, we can unlock the full potential of financial analysis and stock market prediction. The subsequent sections will delve into the process of collecting, preprocessing, and analyzing stock data to derive actionable insights for investors."
   ]
  },
  {
   "cell_type": "code",
   "execution_count": 1,
   "metadata": {},
   "outputs": [],
   "source": [
    "# Data Handling and Statistical Analysis\n",
    "import pandas as pd\n",
    "from pandas_datareader import data\n",
    "import numpy as np\n",
    "from scipy import stats\n",
    "import skimpy as sp\n",
    "pd.set_option('display.max_columns', None)\n"
   ]
  },
  {
   "cell_type": "code",
   "execution_count": 2,
   "metadata": {},
   "outputs": [
    {
     "data": {
      "text/html": [
       "        <script type=\"text/javascript\">\n",
       "        window.PlotlyConfig = {MathJaxConfig: 'local'};\n",
       "        if (window.MathJax && window.MathJax.Hub && window.MathJax.Hub.Config) {window.MathJax.Hub.Config({SVG: {font: \"STIX-Web\"}});}\n",
       "        if (typeof require !== 'undefined') {\n",
       "        require.undef(\"plotly\");\n",
       "        requirejs.config({\n",
       "            paths: {\n",
       "                'plotly': ['https://cdn.plot.ly/plotly-2.35.2.min']\n",
       "            }\n",
       "        });\n",
       "        require(['plotly'], function(Plotly) {\n",
       "            window._Plotly = Plotly;\n",
       "        });\n",
       "        }\n",
       "        </script>\n",
       "        "
      ]
     },
     "metadata": {},
     "output_type": "display_data"
    }
   ],
   "source": [
    "# Data Visualization\n",
    "# Standard visualization libraries\n",
    "import matplotlib.pyplot as plt\n",
    "import seaborn as sns\n",
    "\n",
    "# Interactive visualization libraries\n",
    "import plotly.express as px\n",
    "import plotly.graph_objects as go\n",
    "from plotly.subplots import make_subplots\n",
    "from plotly.offline import init_notebook_mode\n",
    "init_notebook_mode(connected=True)  # Enable Plotly offline\n"
   ]
  },
  {
   "cell_type": "code",
   "execution_count": 3,
   "metadata": {},
   "outputs": [],
   "source": [
    "# Financial Data and Analysis\n",
    "import ta\n",
    "import talib\n",
    "import quantstats as qs\n",
    "import yfinance as yf\n",
    "from pypfopt.efficient_frontier import EfficientFrontier\n",
    "from pypfopt import risk_models, expected_returns\n",
    "from pypfopt import black_litterman, BlackLittermanModel\n"
   ]
  },
  {
   "cell_type": "code",
   "execution_count": 4,
   "metadata": {},
   "outputs": [],
   "source": [
    "# Machine Learning and Optimization\n",
    "#import packages\n",
    "import optuna\n",
    "from sklearn.model_selection import train_test_split\n",
    "from sklearn.metrics import accuracy_score\n",
    "from sklearn.datasets import make_classification\n",
    "from sklearn.experimental import enable_halving_search_cv\n",
    "from sklearn.model_selection import GridSearchCV, RandomizedSearchCV, HalvingGridSearchCV\n",
    "from sklearn.experimental import enable_halving_search_cv\n",
    "from sklearn.linear_model import SGDClassifier"
   ]
  },
  {
   "cell_type": "markdown",
   "metadata": {},
   "source": [
    "## Data Retrieval with APIs: Stock Daily Returns"
   ]
  },
  {
   "cell_type": "markdown",
   "metadata": {},
   "source": [
    "To initiate our analysis, we will retrieve historical stock price data for four prominent technology companies: \n",
    "- Apple: aapl\n",
    "\n",
    "- Microsoft: msft\n",
    "\n",
    "- Google (Alphabet): googl\n",
    "\n",
    "- Amazon: amzn\n",
    "\n",
    "We will utilize the `Quantstats` library to extract this data directly from Yahoo Finance, a popular source for financial information.    \n",
    "\n",
    "These companies were selected due to their significant market capitalization, technological innovation, and widespread global influence, making them representative of the technology sector and attractive for investment analysis.  The data will include daily stock prices, trading volume, and other relevant metrics that will serve as the foundation for our analysis. Let's begin by importing the necessary  stock data.\n",
    "\n",
    "The timeframe for this analysis will be from January 1, 2010, to December 31, 2021, covering over a decade of historical stock performance. This extended period will allow us to capture long-term trends, volatility, and key events that have shaped the stock market landscape. By analyzing this data, we can gain valuable insights into the historical performance of these companies and identify patterns that may inform future investment decisions.\n"
   ]
  },
  {
   "cell_type": "code",
   "execution_count": 5,
   "metadata": {},
   "outputs": [
    {
     "name": "stderr",
     "output_type": "stream",
     "text": [
      "[*********************100%***********************]  1 of 1 completed\n",
      "[*********************100%***********************]  1 of 1 completed\n",
      "[*********************100%***********************]  1 of 1 completed\n",
      "[*********************100%***********************]  1 of 1 completed\n"
     ]
    }
   ],
   "source": [
    "# Define the time window\n",
    "start = '2010-01-01'\n",
    "end = '2021-12-31'\n",
    "\n",
    "# Get returns for each stock within the defined time window\n",
    "aapl = qs.utils.download_returns('AAPL').loc[start:end]\n",
    "msft = qs.utils.download_returns('MSFT').loc[start:end]\n",
    "googl = qs.utils.download_returns('GOOGL').loc[start:end]\n",
    "amzn = qs.utils.download_returns('AMZN').loc[start:end]\n",
    "\n",
    "# Save data to CSV files\n",
    "aapl.to_csv('aapl_returns.csv')\n",
    "msft.to_csv('msft_returns.csv')\n",
    "googl.to_csv('googl_returns.csv')\n",
    "amzn.to_csv('amzn_returns.csv')"
   ]
  },
  {
   "cell_type": "code",
   "execution_count": 6,
   "metadata": {},
   "outputs": [],
   "source": [
    "# Load data from CSV files\n",
    "aapl_returns = pd.read_csv('aapl_returns.csv', index_col=0, parse_dates=True) \n",
    "msft_returns = pd.read_csv('msft_returns.csv', index_col=0, parse_dates=True) \n",
    "googl_returns = pd.read_csv('googl_returns.csv', index_col=0, parse_dates=True) \n",
    "amzn_returns = pd.read_csv('amzn_returns.csv', index_col=0, parse_dates=True) "
   ]
  },
  {
   "cell_type": "markdown",
   "metadata": {},
   "source": [
    "## Data Cleaning and Formatting: Stock Daily Returns"
   ]
  },
  {
   "cell_type": "markdown",
   "metadata": {},
   "source": [
    "Timezones in DatetimeIndex:    \n",
    "When working with financial data, it's crucial to be aware of timezones. As our data contains stock retutns, and dates are in UTC timezone, we will specifically converts the `timezone-aware DatetimeIndex` to a timezone-naive DatetimeIndex.    \n",
    "\n",
    "A timezone-naive DatetimeIndex does not have any timezone information associated with it. This conversion is essential for consistency and compatibility with various financial analysis tools and libraries.\n",
    "\n",
    "\n",
    "\n"
   ]
  },
  {
   "cell_type": "code",
   "execution_count": 7,
   "metadata": {},
   "outputs": [
    {
     "data": {
      "text/html": [
       "<div>\n",
       "<style scoped>\n",
       "    .dataframe tbody tr th:only-of-type {\n",
       "        vertical-align: middle;\n",
       "    }\n",
       "\n",
       "    .dataframe tbody tr th {\n",
       "        vertical-align: top;\n",
       "    }\n",
       "\n",
       "    .dataframe thead th {\n",
       "        text-align: right;\n",
       "    }\n",
       "</style>\n",
       "<table border=\"1\" class=\"dataframe\">\n",
       "  <thead>\n",
       "    <tr style=\"text-align: right;\">\n",
       "      <th></th>\n",
       "      <th>AAPL</th>\n",
       "    </tr>\n",
       "    <tr>\n",
       "      <th>Date</th>\n",
       "      <th></th>\n",
       "    </tr>\n",
       "  </thead>\n",
       "  <tbody>\n",
       "    <tr>\n",
       "      <th>2010-01-04 00:00:00+00:00</th>\n",
       "      <td>0.015565</td>\n",
       "    </tr>\n",
       "    <tr>\n",
       "      <th>2010-01-05 00:00:00+00:00</th>\n",
       "      <td>0.001729</td>\n",
       "    </tr>\n",
       "    <tr>\n",
       "      <th>2010-01-06 00:00:00+00:00</th>\n",
       "      <td>-0.015906</td>\n",
       "    </tr>\n",
       "    <tr>\n",
       "      <th>2010-01-07 00:00:00+00:00</th>\n",
       "      <td>-0.001849</td>\n",
       "    </tr>\n",
       "    <tr>\n",
       "      <th>2010-01-08 00:00:00+00:00</th>\n",
       "      <td>0.006648</td>\n",
       "    </tr>\n",
       "  </tbody>\n",
       "</table>\n",
       "</div>"
      ],
      "text/plain": [
       "                               AAPL\n",
       "Date                               \n",
       "2010-01-04 00:00:00+00:00  0.015565\n",
       "2010-01-05 00:00:00+00:00  0.001729\n",
       "2010-01-06 00:00:00+00:00 -0.015906\n",
       "2010-01-07 00:00:00+00:00 -0.001849\n",
       "2010-01-08 00:00:00+00:00  0.006648"
      ]
     },
     "execution_count": 7,
     "metadata": {},
     "output_type": "execute_result"
    }
   ],
   "source": [
    "# view the data\n",
    "aapl_returns.head()"
   ]
  },
  {
   "cell_type": "code",
   "execution_count": 8,
   "metadata": {},
   "outputs": [],
   "source": [
    "# converting time zone to none\n",
    "aapl_returns.index = aapl_returns.index.tz_convert(None)\n",
    "msft_returns.index = msft_returns.index.tz_convert(None)\n",
    "googl_returns.index = googl_returns.index.tz_convert(None)\n",
    "amzn_returns.index = amzn_returns.index.tz_convert(None)"
   ]
  },
  {
   "cell_type": "code",
   "execution_count": 9,
   "metadata": {},
   "outputs": [
    {
     "data": {
      "text/html": [
       "<div>\n",
       "<style scoped>\n",
       "    .dataframe tbody tr th:only-of-type {\n",
       "        vertical-align: middle;\n",
       "    }\n",
       "\n",
       "    .dataframe tbody tr th {\n",
       "        vertical-align: top;\n",
       "    }\n",
       "\n",
       "    .dataframe thead th {\n",
       "        text-align: right;\n",
       "    }\n",
       "</style>\n",
       "<table border=\"1\" class=\"dataframe\">\n",
       "  <thead>\n",
       "    <tr style=\"text-align: right;\">\n",
       "      <th></th>\n",
       "      <th>AAPL</th>\n",
       "    </tr>\n",
       "    <tr>\n",
       "      <th>Date</th>\n",
       "      <th></th>\n",
       "    </tr>\n",
       "  </thead>\n",
       "  <tbody>\n",
       "    <tr>\n",
       "      <th>2010-01-04</th>\n",
       "      <td>0.015565</td>\n",
       "    </tr>\n",
       "    <tr>\n",
       "      <th>2010-01-05</th>\n",
       "      <td>0.001729</td>\n",
       "    </tr>\n",
       "    <tr>\n",
       "      <th>2010-01-06</th>\n",
       "      <td>-0.015906</td>\n",
       "    </tr>\n",
       "    <tr>\n",
       "      <th>2010-01-07</th>\n",
       "      <td>-0.001849</td>\n",
       "    </tr>\n",
       "    <tr>\n",
       "      <th>2010-01-08</th>\n",
       "      <td>0.006648</td>\n",
       "    </tr>\n",
       "  </tbody>\n",
       "</table>\n",
       "</div>"
      ],
      "text/plain": [
       "                AAPL\n",
       "Date                \n",
       "2010-01-04  0.015565\n",
       "2010-01-05  0.001729\n",
       "2010-01-06 -0.015906\n",
       "2010-01-07 -0.001849\n",
       "2010-01-08  0.006648"
      ]
     },
     "execution_count": 9,
     "metadata": {},
     "output_type": "execute_result"
    }
   ],
   "source": [
    "# view the result of the conversion\n",
    "aapl_returns.head()"
   ]
  },
  {
   "cell_type": "code",
   "execution_count": 10,
   "metadata": {},
   "outputs": [],
   "source": [
    "# Rename the columns\n",
    "aapl_returns.columns = ['returns'] \n",
    "msft_returns.columns = ['returns']\n",
    "googl_returns.columns = ['returns']\n",
    "amzn_returns.columns = ['returns']"
   ]
  },
  {
   "cell_type": "code",
   "execution_count": 11,
   "metadata": {},
   "outputs": [
    {
     "data": {
      "text/html": [
       "<div>\n",
       "<style scoped>\n",
       "    .dataframe tbody tr th:only-of-type {\n",
       "        vertical-align: middle;\n",
       "    }\n",
       "\n",
       "    .dataframe tbody tr th {\n",
       "        vertical-align: top;\n",
       "    }\n",
       "\n",
       "    .dataframe thead th {\n",
       "        text-align: right;\n",
       "    }\n",
       "</style>\n",
       "<table border=\"1\" class=\"dataframe\">\n",
       "  <thead>\n",
       "    <tr style=\"text-align: right;\">\n",
       "      <th></th>\n",
       "      <th>returns</th>\n",
       "    </tr>\n",
       "    <tr>\n",
       "      <th>Date</th>\n",
       "      <th></th>\n",
       "    </tr>\n",
       "  </thead>\n",
       "  <tbody>\n",
       "    <tr>\n",
       "      <th>2010-01-04</th>\n",
       "      <td>0.015565</td>\n",
       "    </tr>\n",
       "    <tr>\n",
       "      <th>2010-01-05</th>\n",
       "      <td>0.001729</td>\n",
       "    </tr>\n",
       "    <tr>\n",
       "      <th>2010-01-06</th>\n",
       "      <td>-0.015906</td>\n",
       "    </tr>\n",
       "    <tr>\n",
       "      <th>2010-01-07</th>\n",
       "      <td>-0.001849</td>\n",
       "    </tr>\n",
       "    <tr>\n",
       "      <th>2010-01-08</th>\n",
       "      <td>0.006648</td>\n",
       "    </tr>\n",
       "  </tbody>\n",
       "</table>\n",
       "</div>"
      ],
      "text/plain": [
       "             returns\n",
       "Date                \n",
       "2010-01-04  0.015565\n",
       "2010-01-05  0.001729\n",
       "2010-01-06 -0.015906\n",
       "2010-01-07 -0.001849\n",
       "2010-01-08  0.006648"
      ]
     },
     "execution_count": 11,
     "metadata": {},
     "output_type": "execute_result"
    }
   ],
   "source": [
    "# Display the first few rows of the appl_data\n",
    "aapl_returns.head()"
   ]
  },
  {
   "cell_type": "markdown",
   "metadata": {},
   "source": []
  },
  {
   "cell_type": "markdown",
   "metadata": {},
   "source": [
    "## Data Retrieval with APIs: Historical stock price"
   ]
  },
  {
   "cell_type": "markdown",
   "metadata": {},
   "source": [
    "The next step is to retrieve historical stock price data for the selected companies using the `yfinance` library.    \n",
    "\n",
    "We will extract daily stock prices, including the opening, high, low, closing prices, and trading volume, for the specified timeframe. This data will serve as the foundation for calculating technical indicators and fundamental metrics.\n",
    "\n",
    "Due to the types of data, we will have to clean the data and convert the timezone-aware DatetimeIndex to a timezone-naive DatetimeIndex. This conversion is essential for consistency and compatibility with various financial analysis tools and libraries."
   ]
  },
  {
   "cell_type": "code",
   "execution_count": 12,
   "metadata": {},
   "outputs": [
    {
     "name": "stderr",
     "output_type": "stream",
     "text": [
      "[*********************100%***********************]  1 of 1 completed\n",
      "[*********************100%***********************]  1 of 1 completed\n",
      "[*********************100%***********************]  1 of 1 completed\n",
      "[*********************100%***********************]  1 of 1 completed\n"
     ]
    }
   ],
   "source": [
    "#import yfinance\n",
    "import yfinance as yf\n",
    "\n",
    "# Define the time window\n",
    "start = '2010-01-01'\n",
    "end = '2021-12-31'\n",
    "\n",
    "# Get historical data for each stock within the defined time window\n",
    "aapl_historical = yf.download('AAPL', start=start, end=end)\n",
    "msft_historical = yf.download('MSFT', start=start, end=end)\n",
    "googl_historical = yf.download('GOOGL', start=start, end=end)\n",
    "amzn_historical = yf.download('AMZN', start=start, end=end)\n",
    "\n",
    "# Save data to CSV files\n",
    "aapl_historical.to_csv('aapl_price.csv')\n",
    "msft_historical.to_csv('msft_price.csv')\n",
    "googl_historical.to_csv('googl_price.csv')\n",
    "amzn_historical.to_csv('amzn_price.csv')"
   ]
  },
  {
   "cell_type": "code",
   "execution_count": 13,
   "metadata": {},
   "outputs": [],
   "source": [
    "# Load data from CSV files\n",
    "aapl_price = pd.read_csv('aapl_price.csv', index_col=0, parse_dates=True) \n",
    "msft_price = pd.read_csv('msft_price.csv', index_col=0, parse_dates=True) \n",
    "googl_price = pd.read_csv('googl_price.csv', index_col=0, parse_dates=True) \n",
    "amzn_price = pd.read_csv('amzn_price.csv', index_col=0, parse_dates=True) "
   ]
  },
  {
   "cell_type": "markdown",
   "metadata": {},
   "source": []
  },
  {
   "cell_type": "markdown",
   "metadata": {},
   "source": [
    "## Data Cleaning and Formatting: Historical Stock Data"
   ]
  },
  {
   "cell_type": "code",
   "execution_count": 14,
   "metadata": {},
   "outputs": [
    {
     "data": {
      "text/html": [
       "<div>\n",
       "<style scoped>\n",
       "    .dataframe tbody tr th:only-of-type {\n",
       "        vertical-align: middle;\n",
       "    }\n",
       "\n",
       "    .dataframe tbody tr th {\n",
       "        vertical-align: top;\n",
       "    }\n",
       "\n",
       "    .dataframe thead th {\n",
       "        text-align: right;\n",
       "    }\n",
       "</style>\n",
       "<table border=\"1\" class=\"dataframe\">\n",
       "  <thead>\n",
       "    <tr style=\"text-align: right;\">\n",
       "      <th></th>\n",
       "      <th>Adj Close</th>\n",
       "      <th>Close</th>\n",
       "      <th>High</th>\n",
       "      <th>Low</th>\n",
       "      <th>Open</th>\n",
       "      <th>Volume</th>\n",
       "    </tr>\n",
       "    <tr>\n",
       "      <th>Price</th>\n",
       "      <th></th>\n",
       "      <th></th>\n",
       "      <th></th>\n",
       "      <th></th>\n",
       "      <th></th>\n",
       "      <th></th>\n",
       "    </tr>\n",
       "  </thead>\n",
       "  <tbody>\n",
       "    <tr>\n",
       "      <th>Ticker</th>\n",
       "      <td>AAPL</td>\n",
       "      <td>AAPL</td>\n",
       "      <td>AAPL</td>\n",
       "      <td>AAPL</td>\n",
       "      <td>AAPL</td>\n",
       "      <td>AAPL</td>\n",
       "    </tr>\n",
       "    <tr>\n",
       "      <th>Date</th>\n",
       "      <td>NaN</td>\n",
       "      <td>NaN</td>\n",
       "      <td>NaN</td>\n",
       "      <td>NaN</td>\n",
       "      <td>NaN</td>\n",
       "      <td>NaN</td>\n",
       "    </tr>\n",
       "    <tr>\n",
       "      <th>2010-01-04 00:00:00+00:00</th>\n",
       "      <td>6.447412490844727</td>\n",
       "      <td>7.643214225769043</td>\n",
       "      <td>7.660714149475098</td>\n",
       "      <td>7.585000038146973</td>\n",
       "      <td>7.622499942779541</td>\n",
       "      <td>493729600</td>\n",
       "    </tr>\n",
       "    <tr>\n",
       "      <th>2010-01-05 00:00:00+00:00</th>\n",
       "      <td>6.458560466766357</td>\n",
       "      <td>7.656428813934326</td>\n",
       "      <td>7.699643135070801</td>\n",
       "      <td>7.6160712242126465</td>\n",
       "      <td>7.664286136627197</td>\n",
       "      <td>601904800</td>\n",
       "    </tr>\n",
       "    <tr>\n",
       "      <th>2010-01-06 00:00:00+00:00</th>\n",
       "      <td>6.355825901031494</td>\n",
       "      <td>7.534643173217773</td>\n",
       "      <td>7.68678617477417</td>\n",
       "      <td>7.526785850524902</td>\n",
       "      <td>7.656428813934326</td>\n",
       "      <td>552160000</td>\n",
       "    </tr>\n",
       "  </tbody>\n",
       "</table>\n",
       "</div>"
      ],
      "text/plain": [
       "                                   Adj Close              Close  \\\n",
       "Price                                                             \n",
       "Ticker                                  AAPL               AAPL   \n",
       "Date                                     NaN                NaN   \n",
       "2010-01-04 00:00:00+00:00  6.447412490844727  7.643214225769043   \n",
       "2010-01-05 00:00:00+00:00  6.458560466766357  7.656428813934326   \n",
       "2010-01-06 00:00:00+00:00  6.355825901031494  7.534643173217773   \n",
       "\n",
       "                                        High                 Low  \\\n",
       "Price                                                              \n",
       "Ticker                                  AAPL                AAPL   \n",
       "Date                                     NaN                 NaN   \n",
       "2010-01-04 00:00:00+00:00  7.660714149475098   7.585000038146973   \n",
       "2010-01-05 00:00:00+00:00  7.699643135070801  7.6160712242126465   \n",
       "2010-01-06 00:00:00+00:00   7.68678617477417   7.526785850524902   \n",
       "\n",
       "                                        Open     Volume  \n",
       "Price                                                    \n",
       "Ticker                                  AAPL       AAPL  \n",
       "Date                                     NaN        NaN  \n",
       "2010-01-04 00:00:00+00:00  7.622499942779541  493729600  \n",
       "2010-01-05 00:00:00+00:00  7.664286136627197  601904800  \n",
       "2010-01-06 00:00:00+00:00  7.656428813934326  552160000  "
      ]
     },
     "execution_count": 14,
     "metadata": {},
     "output_type": "execute_result"
    }
   ],
   "source": [
    "# view the data to check if it was loaded correctly\n",
    "aapl_price.head()"
   ]
  },
  {
   "cell_type": "code",
   "execution_count": 15,
   "metadata": {},
   "outputs": [],
   "source": [
    "# dropping the Adj Close columns that are not needed\n",
    "aapl_price = aapl_price.drop(['Adj Close'], axis=1)\n",
    "msft_price = msft_price.drop(['Adj Close'], axis=1)\n",
    "googl_price = googl_price.drop(['Adj Close'], axis=1)\n",
    "amzn_price = amzn_price.drop(['Adj Close'], axis=1)"
   ]
  },
  {
   "cell_type": "code",
   "execution_count": 16,
   "metadata": {},
   "outputs": [],
   "source": [
    "# reset the index to remove the multi-index\n",
    "aapl_price.reset_index(inplace=True)\n",
    "msft_price.reset_index(inplace=True)\n",
    "googl_price.reset_index(inplace=True)\n",
    "amzn_price.reset_index(inplace=True)"
   ]
  },
  {
   "cell_type": "code",
   "execution_count": 17,
   "metadata": {},
   "outputs": [],
   "source": [
    "# clean the columns headers to make them uniform\n",
    "def clean_columns_headers(df):\n",
    "    df.columns = df.columns.str.strip()\n",
    "    df.columns = df.columns.str.lower()\n",
    "    df.columns = df.columns.str.replace(' ', '_')\n",
    "    return df\n",
    "\n",
    "aapl_price = clean_columns_headers(aapl_price)\n",
    "msft_price = clean_columns_headers(msft_price)\n",
    "googl_price = clean_columns_headers(googl_price)\n",
    "amzn_price = clean_columns_headers(amzn_price)\n"
   ]
  },
  {
   "cell_type": "code",
   "execution_count": 18,
   "metadata": {},
   "outputs": [],
   "source": [
    "# drop rows with missing values, and drop the first row\n",
    "def drop_rows(df):\n",
    "    df.dropna(inplace=True)\n",
    "    df.drop(index=0, inplace=True)\n",
    "    return df\n",
    "\n",
    "aapl_price = drop_rows(aapl_price)\n",
    "msft_price = drop_rows(msft_price)\n",
    "googl_price = drop_rows(googl_price)\n",
    "amzn_price = drop_rows(amzn_price)"
   ]
  },
  {
   "cell_type": "code",
   "execution_count": 19,
   "metadata": {},
   "outputs": [],
   "source": [
    "# Rename the first column to 'date'\n",
    "aapl_price.rename(columns={'price':'date'}, inplace=True)\n",
    "msft_price.rename(columns={'price':'date'}, inplace=True)\n",
    "googl_price.rename(columns={'price':'date'}, inplace=True)\n",
    "amzn_price.rename(columns={'price':'date'}, inplace=True)"
   ]
  },
  {
   "cell_type": "code",
   "execution_count": 20,
   "metadata": {},
   "outputs": [
    {
     "data": {
      "text/html": [
       "<div>\n",
       "<style scoped>\n",
       "    .dataframe tbody tr th:only-of-type {\n",
       "        vertical-align: middle;\n",
       "    }\n",
       "\n",
       "    .dataframe tbody tr th {\n",
       "        vertical-align: top;\n",
       "    }\n",
       "\n",
       "    .dataframe thead th {\n",
       "        text-align: right;\n",
       "    }\n",
       "</style>\n",
       "<table border=\"1\" class=\"dataframe\">\n",
       "  <thead>\n",
       "    <tr style=\"text-align: right;\">\n",
       "      <th></th>\n",
       "      <th>date</th>\n",
       "      <th>close</th>\n",
       "      <th>high</th>\n",
       "      <th>low</th>\n",
       "      <th>open</th>\n",
       "      <th>volume</th>\n",
       "    </tr>\n",
       "  </thead>\n",
       "  <tbody>\n",
       "    <tr>\n",
       "      <th>2</th>\n",
       "      <td>2010-01-04 00:00:00+00:00</td>\n",
       "      <td>7.643214225769043</td>\n",
       "      <td>7.660714149475098</td>\n",
       "      <td>7.585000038146973</td>\n",
       "      <td>7.622499942779541</td>\n",
       "      <td>493729600</td>\n",
       "    </tr>\n",
       "    <tr>\n",
       "      <th>3</th>\n",
       "      <td>2010-01-05 00:00:00+00:00</td>\n",
       "      <td>7.656428813934326</td>\n",
       "      <td>7.699643135070801</td>\n",
       "      <td>7.6160712242126465</td>\n",
       "      <td>7.664286136627197</td>\n",
       "      <td>601904800</td>\n",
       "    </tr>\n",
       "    <tr>\n",
       "      <th>4</th>\n",
       "      <td>2010-01-06 00:00:00+00:00</td>\n",
       "      <td>7.534643173217773</td>\n",
       "      <td>7.68678617477417</td>\n",
       "      <td>7.526785850524902</td>\n",
       "      <td>7.656428813934326</td>\n",
       "      <td>552160000</td>\n",
       "    </tr>\n",
       "    <tr>\n",
       "      <th>5</th>\n",
       "      <td>2010-01-07 00:00:00+00:00</td>\n",
       "      <td>7.520713806152344</td>\n",
       "      <td>7.5714287757873535</td>\n",
       "      <td>7.466071128845215</td>\n",
       "      <td>7.5625</td>\n",
       "      <td>477131200</td>\n",
       "    </tr>\n",
       "    <tr>\n",
       "      <th>6</th>\n",
       "      <td>2010-01-08 00:00:00+00:00</td>\n",
       "      <td>7.570713996887207</td>\n",
       "      <td>7.5714287757873535</td>\n",
       "      <td>7.466429233551025</td>\n",
       "      <td>7.510714054107666</td>\n",
       "      <td>447610800</td>\n",
       "    </tr>\n",
       "  </tbody>\n",
       "</table>\n",
       "</div>"
      ],
      "text/plain": [
       "                        date              close                high  \\\n",
       "2  2010-01-04 00:00:00+00:00  7.643214225769043   7.660714149475098   \n",
       "3  2010-01-05 00:00:00+00:00  7.656428813934326   7.699643135070801   \n",
       "4  2010-01-06 00:00:00+00:00  7.534643173217773    7.68678617477417   \n",
       "5  2010-01-07 00:00:00+00:00  7.520713806152344  7.5714287757873535   \n",
       "6  2010-01-08 00:00:00+00:00  7.570713996887207  7.5714287757873535   \n",
       "\n",
       "                  low               open     volume  \n",
       "2   7.585000038146973  7.622499942779541  493729600  \n",
       "3  7.6160712242126465  7.664286136627197  601904800  \n",
       "4   7.526785850524902  7.656428813934326  552160000  \n",
       "5   7.466071128845215             7.5625  477131200  \n",
       "6   7.466429233551025  7.510714054107666  447610800  "
      ]
     },
     "execution_count": 20,
     "metadata": {},
     "output_type": "execute_result"
    }
   ],
   "source": [
    "# view the data to check the changes\n",
    "aapl_price.head()"
   ]
  },
  {
   "cell_type": "code",
   "execution_count": 21,
   "metadata": {},
   "outputs": [
    {
     "name": "stdout",
     "output_type": "stream",
     "text": [
      "<class 'pandas.core.frame.DataFrame'>\n",
      "Int64Index: 3020 entries, 2 to 3021\n",
      "Data columns (total 6 columns):\n",
      " #   Column  Non-Null Count  Dtype \n",
      "---  ------  --------------  ----- \n",
      " 0   date    3020 non-null   object\n",
      " 1   close   3020 non-null   object\n",
      " 2   high    3020 non-null   object\n",
      " 3   low     3020 non-null   object\n",
      " 4   open    3020 non-null   object\n",
      " 5   volume  3020 non-null   object\n",
      "dtypes: object(6)\n",
      "memory usage: 165.2+ KB\n"
     ]
    }
   ],
   "source": [
    "# check the data types of the columns\n",
    "aapl_price.info()"
   ]
  },
  {
   "cell_type": "code",
   "execution_count": 22,
   "metadata": {},
   "outputs": [],
   "source": [
    "# convert the data types of the columns to float\n",
    "def convert_data_types(df):\n",
    "    df['open'] = df['open'].astype(float)\n",
    "    df['high'] = df['high'].astype(float)\n",
    "    df['low'] = df['low'].astype(float)\n",
    "    df['close'] = df['close'].astype(float)\n",
    "    df['volume'] = df['volume'].astype(float)\n",
    "    df['date'] = pd.to_datetime(df['date'])\n",
    "    return df\n",
    "\n",
    "\n",
    "# convert the data types of the columns to float\n",
    "aapl_price = convert_data_types(aapl_price)\n",
    "msft_price = convert_data_types(msft_price)\n",
    "googl_price = convert_data_types(googl_price)\n",
    "amzn_price = convert_data_types(amzn_price)"
   ]
  },
  {
   "cell_type": "code",
   "execution_count": 23,
   "metadata": {},
   "outputs": [],
   "source": [
    "# Setting the date as the index\n",
    "aapl_price.set_index('date', inplace=True)\n",
    "msft_price.set_index('date', inplace=True)\n",
    "googl_price.set_index('date', inplace=True)\n",
    "amzn_price.set_index('date', inplace=True)"
   ]
  },
  {
   "cell_type": "code",
   "execution_count": 24,
   "metadata": {},
   "outputs": [],
   "source": [
    "# convert the time zone to none\n",
    "aapl_price.index = aapl_price.index.tz_convert(None)\n",
    "msft_price.index = msft_price.index.tz_convert(None)\n",
    "googl_price.index = googl_price.index.tz_convert(None)\n",
    "amzn_price.index = amzn_price.index.tz_convert(None)\n"
   ]
  },
  {
   "cell_type": "code",
   "execution_count": 25,
   "metadata": {},
   "outputs": [
    {
     "data": {
      "text/html": [
       "<div>\n",
       "<style scoped>\n",
       "    .dataframe tbody tr th:only-of-type {\n",
       "        vertical-align: middle;\n",
       "    }\n",
       "\n",
       "    .dataframe tbody tr th {\n",
       "        vertical-align: top;\n",
       "    }\n",
       "\n",
       "    .dataframe thead th {\n",
       "        text-align: right;\n",
       "    }\n",
       "</style>\n",
       "<table border=\"1\" class=\"dataframe\">\n",
       "  <thead>\n",
       "    <tr style=\"text-align: right;\">\n",
       "      <th></th>\n",
       "      <th>close</th>\n",
       "      <th>high</th>\n",
       "      <th>low</th>\n",
       "      <th>open</th>\n",
       "      <th>volume</th>\n",
       "    </tr>\n",
       "    <tr>\n",
       "      <th>date</th>\n",
       "      <th></th>\n",
       "      <th></th>\n",
       "      <th></th>\n",
       "      <th></th>\n",
       "      <th></th>\n",
       "    </tr>\n",
       "  </thead>\n",
       "  <tbody>\n",
       "    <tr>\n",
       "      <th>2010-01-04</th>\n",
       "      <td>7.643214</td>\n",
       "      <td>7.660714</td>\n",
       "      <td>7.585000</td>\n",
       "      <td>7.622500</td>\n",
       "      <td>493729600.0</td>\n",
       "    </tr>\n",
       "    <tr>\n",
       "      <th>2010-01-05</th>\n",
       "      <td>7.656429</td>\n",
       "      <td>7.699643</td>\n",
       "      <td>7.616071</td>\n",
       "      <td>7.664286</td>\n",
       "      <td>601904800.0</td>\n",
       "    </tr>\n",
       "    <tr>\n",
       "      <th>2010-01-06</th>\n",
       "      <td>7.534643</td>\n",
       "      <td>7.686786</td>\n",
       "      <td>7.526786</td>\n",
       "      <td>7.656429</td>\n",
       "      <td>552160000.0</td>\n",
       "    </tr>\n",
       "    <tr>\n",
       "      <th>2010-01-07</th>\n",
       "      <td>7.520714</td>\n",
       "      <td>7.571429</td>\n",
       "      <td>7.466071</td>\n",
       "      <td>7.562500</td>\n",
       "      <td>477131200.0</td>\n",
       "    </tr>\n",
       "    <tr>\n",
       "      <th>2010-01-08</th>\n",
       "      <td>7.570714</td>\n",
       "      <td>7.571429</td>\n",
       "      <td>7.466429</td>\n",
       "      <td>7.510714</td>\n",
       "      <td>447610800.0</td>\n",
       "    </tr>\n",
       "  </tbody>\n",
       "</table>\n",
       "</div>"
      ],
      "text/plain": [
       "               close      high       low      open       volume\n",
       "date                                                           \n",
       "2010-01-04  7.643214  7.660714  7.585000  7.622500  493729600.0\n",
       "2010-01-05  7.656429  7.699643  7.616071  7.664286  601904800.0\n",
       "2010-01-06  7.534643  7.686786  7.526786  7.656429  552160000.0\n",
       "2010-01-07  7.520714  7.571429  7.466071  7.562500  477131200.0\n",
       "2010-01-08  7.570714  7.571429  7.466429  7.510714  447610800.0"
      ]
     },
     "execution_count": 25,
     "metadata": {},
     "output_type": "execute_result"
    }
   ],
   "source": [
    "# view the data to check the changes\n",
    "aapl_price.head()"
   ]
  },
  {
   "cell_type": "markdown",
   "metadata": {},
   "source": [
    "Thus , we have the monthly returns and the historical prices of the four stocks. We can now proceed to extract other relevant financial metrics and perform exploratory data analysis to gain insights into the stock market trends."
   ]
  },
  {
   "cell_type": "markdown",
   "metadata": {},
   "source": [
    "## Feature Engineering for Machine Learning"
   ]
  },
  {
   "cell_type": "markdown",
   "metadata": {},
   "source": [
    "The success of machine learning models in financial analysis hinges on the quality and relevance of the features used for prediction. Feature engineering plays a critical role in extracting meaningful insights from raw data and enhancing the performance of predictive models. In this section, we will create a set of features that capture essential aspects of stock market behavior, including `technical indicators` and `fundamental metrics`.\n",
    "\n",
    "The focus is on generating features that are relevant, informative, and predictive of future stock price movements. By combining technical indicators, fundamental metrics, and other relevant features, we aim to develop a comprehensive feature set that can be used for machine learning-based stock price forecasting, volatility prediction, and classification tasks."
   ]
  },
  {
   "cell_type": "markdown",
   "metadata": {},
   "source": [
    "####  Technical Indicators\n",
    "\n",
    "Technical indicators are mathematical calculations derived from historical price, volume, or other market data to provide insights into market trends, momentum, volatility, and volume. These indicators are essential for understanding market behavior and identifying potential opportunities for trading or investment.\n",
    "\n",
    "* Categories of Technical Indicators\n",
    "\t1.\t**Trend Indicators**: These indicators identify the direction of market movements and help traders determine whether a market is in an uptrend, downtrend, or consolidating. Examples include:\n",
    "\t\t- `Moving Averages (MA)`: Smooths out price data to identify trends over time.\n",
    "\t\t- `Exponential Moving Average (EMA)`: Gives more weight to recent prices for faster responses to price changes.\n",
    "\t\t- `MACD (Moving Average Convergence Divergence)`: Highlights changes in momentum and trend direction.\n",
    "\t\t- `Parabolic SAR`: Indicates potential reversals in market trends.\t\n",
    "\n",
    "\t2.\t**Momentum Indicators**: These indicators measure the speed and strength of price movements, helping traders identify overbought or oversold conditions. Examples include:\n",
    "\t\t- `Relative Strength Index (RSI)`: Measures the magnitude of recent price changes to evaluate overbought or oversold conditions.\n",
    "\t\t- `Stochastic Oscillator`: Compares a security's closing price to its price range over a specific period.\n",
    "\t\t- `Rate of Change (ROC)`: Measures the percentage change in price between the current price and a past price.\n",
    "\n",
    "\t3.\t**Volatility Indicators**: These indicators quantify the degree of price fluctuations in the market, helping traders assess risk and potential price movements. Examples include:\n",
    "\t\t- `Bollinger Bands`: Consist of a moving average and two standard deviation bands to identify price volatility.\n",
    "\t\t- `Average True Range (ATR)`: Measures market volatility by calculating the average range between price highs and lows.\n",
    "\t\t- `Keltner Channels`: Similar to Bollinger Bands, but use average true range to set channel boundaries.\n",
    "\n",
    "\t4.\t**Volume Indicators**: These indicators analyze trading volume to assess the strength of price movements and identify potential reversals. Examples include:\n",
    "\t\t- `On-Balance Volume (OBV)`: Tracks cumulative volume to predict price movements.\n",
    "\t\t- `Accumulation/Distribution Line`: Combines price and volume data to assess the flow of money in and out of a security.\n",
    "\t\t- `Chaikin Money Flow (CMF)`: Measures the buying and selling pressure for a security.\n",
    "\n"
   ]
  },
  {
   "cell_type": "markdown",
   "metadata": {},
   "source": [
    "### Trend Indicators measures: "
   ]
  },
  {
   "cell_type": "markdown",
   "metadata": {},
   "source": [
    "- **Moving Averages (MA):**    \n",
    "A moving average is a widely used technical indicator that smooths out price data to identify trends over time. It calculates the average price of a security over a specified period, providing a clearer picture of the underlying trend. Moving averages are commonly used to identify support and resistance levels, trend direction, and potential entry or exit points for trades."
   ]
  },
  {
   "cell_type": "code",
   "execution_count": 26,
   "metadata": {},
   "outputs": [],
   "source": [
    "# Simple Moving Average (SMA)\n",
    "aapl_price['sma_20'] = aapl_price['close'].rolling(window=20).mean()\n",
    "msft_price['sma_20'] = msft_price['close'].rolling(window=20).mean()\n",
    "googl_price['sma_20'] = googl_price['close'].rolling(window=20).mean()\n",
    "amzn_price['sma_20'] = amzn_price['close'].rolling(window=20).mean()"
   ]
  },
  {
   "cell_type": "markdown",
   "metadata": {},
   "source": [
    "- **Exponential Moving Average (EMA):**   \n",
    "The exponential moving average is a type of moving average that gives more weight to recent prices, making it more responsive to price changes. It is calculated by applying a smoothing factor to the previous period's EMA and the current price. The EMA reacts faster to price movements than the simple moving average, making it popular among traders looking for timely signals."
   ]
  },
  {
   "cell_type": "code",
   "execution_count": 27,
   "metadata": {},
   "outputs": [],
   "source": [
    "# Exponential Moving Average (EMA)\n",
    "aapl_price['ema_20'] = aapl_price['close'].ewm(span=20, adjust=False).mean()\n",
    "msft_price['ema_20'] = msft_price['close'].ewm(span=20, adjust=False).mean()\n",
    "googl_price['ema_20'] = googl_price['close'].ewm(span=20, adjust=False).mean()\n",
    "amzn_price['ema_20'] = amzn_price['close'].ewm(span=20, adjust=False).mean()"
   ]
  },
  {
   "cell_type": "markdown",
   "metadata": {},
   "source": [
    "- **MACD (Moving Average Convergence Divergence)**  \n",
    "The Moving Average Convergence Divergence (MACD) is a trend-following momentum indicator that shows the relationship between two moving averages of a security's price. It consists of the MACD line, signal line, and histogram. The MACD line is calculated by subtracting the 26-period EMA from the 12-period EMA, while the signal line is the 9-period EMA of the MACD line. The histogram represents the difference between the MACD line and the signal line. The MACD is used to identify changes in trend direction, momentum, and potential buy or sell signals."
   ]
  },
  {
   "cell_type": "code",
   "execution_count": 28,
   "metadata": {},
   "outputs": [],
   "source": [
    "# Define the parameters for the MACD calculation\n",
    "fastperiod = 12\n",
    "slowperiod = 26\n",
    "signalperiod = 9\n",
    "\n",
    "aapl_price['macd'], aapl_price['macd_signal'], _ = talib.MACD(aapl_price['close'], fastperiod, slowperiod, signalperiod)\n",
    "msft_price['macd'], msft_price['macd_signal'], _ = talib.MACD(msft_price['close'], fastperiod, slowperiod, signalperiod)\n",
    "googl_price['macd'], googl_price['macd_signal'], _ = talib.MACD(googl_price['close'], fastperiod, slowperiod, signalperiod)\n",
    "amzn_price['macd'], amzn_price['macd_signal'], _ = talib.MACD(amzn_price['close'], fastperiod, slowperiod, signalperiod)"
   ]
  },
  {
   "cell_type": "markdown",
   "metadata": {},
   "source": [
    "**Parabolic SAR (SAR)**   \n",
    "The parabolic SAR (stop and reverse) is a trend-following indicator that provides potential entry and exit points for trades. It appears as dots above or below the price chart, indicating the direction of the trend. When the dots are below the price, it suggests an uptrend, while dots above the price indicate a downtrend. The parabolic SAR is used to set trailing stop-loss orders and identify potential trend reversals."
   ]
  },
  {
   "cell_type": "code",
   "execution_count": 33,
   "metadata": {},
   "outputs": [],
   "source": [
    "aapl_price['sar'] = talib.SAR(aapl_price['high'], aapl_price['low'], acceleration=0.02, maximum=0.2)\n",
    "msft_price['sar'] = talib.SAR(msft_price['high'], msft_price['low'], acceleration=0.02, maximum=0.2)\n",
    "googl_price['sar'] = talib.SAR(googl_price['high'], googl_price['low'], acceleration=0.02, maximum=0.2)\n",
    "amzn_price['sar'] = talib.SAR(amzn_price['high'], amzn_price['low'], acceleration=0.02, maximum=0.2)"
   ]
  },
  {
   "cell_type": "code",
   "execution_count": 34,
   "metadata": {},
   "outputs": [
    {
     "data": {
      "text/html": [
       "<div>\n",
       "<style scoped>\n",
       "    .dataframe tbody tr th:only-of-type {\n",
       "        vertical-align: middle;\n",
       "    }\n",
       "\n",
       "    .dataframe tbody tr th {\n",
       "        vertical-align: top;\n",
       "    }\n",
       "\n",
       "    .dataframe thead th {\n",
       "        text-align: right;\n",
       "    }\n",
       "</style>\n",
       "<table border=\"1\" class=\"dataframe\">\n",
       "  <thead>\n",
       "    <tr style=\"text-align: right;\">\n",
       "      <th></th>\n",
       "      <th>close</th>\n",
       "      <th>high</th>\n",
       "      <th>low</th>\n",
       "      <th>open</th>\n",
       "      <th>volume</th>\n",
       "      <th>sma_20</th>\n",
       "      <th>ema_20</th>\n",
       "      <th>macd</th>\n",
       "      <th>macd_signal</th>\n",
       "      <th>sar</th>\n",
       "    </tr>\n",
       "    <tr>\n",
       "      <th>date</th>\n",
       "      <th></th>\n",
       "      <th></th>\n",
       "      <th></th>\n",
       "      <th></th>\n",
       "      <th></th>\n",
       "      <th></th>\n",
       "      <th></th>\n",
       "      <th></th>\n",
       "      <th></th>\n",
       "      <th></th>\n",
       "    </tr>\n",
       "  </thead>\n",
       "  <tbody>\n",
       "    <tr>\n",
       "      <th>2010-01-04</th>\n",
       "      <td>7.643214</td>\n",
       "      <td>7.660714</td>\n",
       "      <td>7.585000</td>\n",
       "      <td>7.622500</td>\n",
       "      <td>493729600.0</td>\n",
       "      <td>NaN</td>\n",
       "      <td>7.643214</td>\n",
       "      <td>NaN</td>\n",
       "      <td>NaN</td>\n",
       "      <td>NaN</td>\n",
       "    </tr>\n",
       "    <tr>\n",
       "      <th>2010-01-05</th>\n",
       "      <td>7.656429</td>\n",
       "      <td>7.699643</td>\n",
       "      <td>7.616071</td>\n",
       "      <td>7.664286</td>\n",
       "      <td>601904800.0</td>\n",
       "      <td>NaN</td>\n",
       "      <td>7.644473</td>\n",
       "      <td>NaN</td>\n",
       "      <td>NaN</td>\n",
       "      <td>7.585000</td>\n",
       "    </tr>\n",
       "    <tr>\n",
       "      <th>2010-01-06</th>\n",
       "      <td>7.534643</td>\n",
       "      <td>7.686786</td>\n",
       "      <td>7.526786</td>\n",
       "      <td>7.656429</td>\n",
       "      <td>552160000.0</td>\n",
       "      <td>NaN</td>\n",
       "      <td>7.634013</td>\n",
       "      <td>NaN</td>\n",
       "      <td>NaN</td>\n",
       "      <td>7.699643</td>\n",
       "    </tr>\n",
       "    <tr>\n",
       "      <th>2010-01-07</th>\n",
       "      <td>7.520714</td>\n",
       "      <td>7.571429</td>\n",
       "      <td>7.466071</td>\n",
       "      <td>7.562500</td>\n",
       "      <td>477131200.0</td>\n",
       "      <td>NaN</td>\n",
       "      <td>7.623222</td>\n",
       "      <td>NaN</td>\n",
       "      <td>NaN</td>\n",
       "      <td>7.699643</td>\n",
       "    </tr>\n",
       "    <tr>\n",
       "      <th>2010-01-08</th>\n",
       "      <td>7.570714</td>\n",
       "      <td>7.571429</td>\n",
       "      <td>7.466429</td>\n",
       "      <td>7.510714</td>\n",
       "      <td>447610800.0</td>\n",
       "      <td>NaN</td>\n",
       "      <td>7.618222</td>\n",
       "      <td>NaN</td>\n",
       "      <td>NaN</td>\n",
       "      <td>7.690300</td>\n",
       "    </tr>\n",
       "  </tbody>\n",
       "</table>\n",
       "</div>"
      ],
      "text/plain": [
       "               close      high       low      open       volume  sma_20  \\\n",
       "date                                                                      \n",
       "2010-01-04  7.643214  7.660714  7.585000  7.622500  493729600.0     NaN   \n",
       "2010-01-05  7.656429  7.699643  7.616071  7.664286  601904800.0     NaN   \n",
       "2010-01-06  7.534643  7.686786  7.526786  7.656429  552160000.0     NaN   \n",
       "2010-01-07  7.520714  7.571429  7.466071  7.562500  477131200.0     NaN   \n",
       "2010-01-08  7.570714  7.571429  7.466429  7.510714  447610800.0     NaN   \n",
       "\n",
       "              ema_20  macd  macd_signal       sar  \n",
       "date                                               \n",
       "2010-01-04  7.643214   NaN          NaN       NaN  \n",
       "2010-01-05  7.644473   NaN          NaN  7.585000  \n",
       "2010-01-06  7.634013   NaN          NaN  7.699643  \n",
       "2010-01-07  7.623222   NaN          NaN  7.699643  \n",
       "2010-01-08  7.618222   NaN          NaN  7.690300  "
      ]
     },
     "execution_count": 34,
     "metadata": {},
     "output_type": "execute_result"
    }
   ],
   "source": [
    "aapl_price.head()"
   ]
  },
  {
   "cell_type": "markdown",
   "metadata": {},
   "source": [
    "### Momentum Indicators measures:"
   ]
  },
  {
   "cell_type": "markdown",
   "metadata": {},
   "source": [
    "* **Relative Strength Index (RSI):**\n",
    "The Relative Strength Index (RSI) is a momentum oscillator that measures the speed and change of price movements. It ranges from 0 to 100 and is used to identify overbought or oversold conditions in a security. A high RSI value (above 70) indicates overbought conditions, while a low RSI value (below 30) suggests oversold conditions. The RSI is used to assess the strength of price movements and potential trend reversals."
   ]
  },
  {
   "cell_type": "code",
   "execution_count": 35,
   "metadata": {},
   "outputs": [],
   "source": [
    "aapl_price['RSI'] = talib.RSI(aapl_price['close'], timeperiod=14)\n",
    "msft_price['RSI'] = talib.RSI(msft_price['close'], timeperiod=14)\n",
    "googl_price['RSI'] = talib.RSI(googl_price['close'], timeperiod=14)\n",
    "amzn_price['RSI'] = talib.RSI(amzn_price['close'], timeperiod=14)"
   ]
  },
  {
   "cell_type": "markdown",
   "metadata": {},
   "source": [
    "* **Stochastic Oscillator:**   \n",
    "The Stochastic Oscillator is a momentum indicator that compares a security's closing price to its price range over a specific period. It consists of two lines, %K and %D, which fluctuate between 0 and 100. The %K line represents the current price relative to the price range, while the %D line is a moving average of the %K line. The Stochastic Oscillator is used to identify overbought or oversold conditions and potential trend reversals."
   ]
  },
  {
   "cell_type": "code",
   "execution_count": 37,
   "metadata": {},
   "outputs": [],
   "source": [
    "# Calculate Stochastic Oscillator for AAPL\n",
    "aapl_price['slowk'], aapl_price['slowd'] = talib.STOCH(aapl_price['high'], aapl_price['low'], aapl_price['close'], \n",
    "                                                       fastk_period=14, slowk_period=3, slowk_matype=0,\n",
    "                                                       slowd_period=3, slowd_matype=0)\n",
    "\n",
    "# Calculate Stochastic Oscillator for MSFT\n",
    "msft_price['slowk'], msft_price['slowd'] = talib.STOCH(msft_price['high'], msft_price['low'], msft_price['close'], \n",
    "                                                       fastk_period=14, slowk_period=3, slowk_matype=0,\n",
    "                                                       slowd_period=3, slowd_matype=0)\n",
    "\n",
    "# Calculate Stochastic Oscillator for GOOGL\n",
    "googl_price['slowk'], googl_price['slowd'] = talib.STOCH(googl_price['high'], googl_price['low'], googl_price['close'], \n",
    "                                                         fastk_period=14, slowk_period=3, slowk_matype=0,\n",
    "                                                         slowd_period=3, slowd_matype=0)\n",
    "\n",
    "# Calculate Stochastic Oscillator for AMZN\n",
    "amzn_price['slowk'], amzn_price['slowd'] = talib.STOCH(amzn_price['high'], amzn_price['low'], amzn_price['close'], \n",
    "                                                       fastk_period=14, slowk_period=3, slowk_matype=0,\n",
    "                                                       slowd_period=3, slowd_matype=0)\n"
   ]
  },
  {
   "cell_type": "markdown",
   "metadata": {},
   "source": [
    "* **Rate of Change (ROC):**   \n",
    "The Rate of Change (ROC) is a momentum oscillator that measures the percentage change in price between the current price and a past price. It calculates the rate of change over a specified period, providing insights into the speed and direction of price movements. The ROC is used to identify trends, momentum shifts, and potential buy or sell signals."
   ]
  },
  {
   "cell_type": "code",
   "execution_count": null,
   "metadata": {},
   "outputs": [],
   "source": [
    "# Calculate Rate of Change (ROC) for each stock\n",
    "aapl_price['ROC'] = talib.ROC(aapl_price['close'], timeperiod=10)\n",
    "msft_price['ROC'] = talib.ROC(msft_price['close'], timeperiod=10)\n",
    "googl_price['ROC'] = talib.ROC(googl_price['close'], timeperiod=10)\n",
    "amzn_price['ROC'] = talib.ROC(amzn_price['close'], timeperiod=10)"
   ]
  },
  {
   "cell_type": "code",
   "execution_count": 43,
   "metadata": {},
   "outputs": [
    {
     "data": {
      "text/plain": [
       "(3020, 17)"
      ]
     },
     "execution_count": 43,
     "metadata": {},
     "output_type": "execute_result"
    }
   ],
   "source": []
  },
  {
   "cell_type": "markdown",
   "metadata": {},
   "source": [
    "### Volatility Indicators measures:"
   ]
  },
  {
   "cell_type": "markdown",
   "metadata": {},
   "source": [
    "* **Bollinger Bands:**   \n",
    "Bollinger Bands consist of a moving average and two standard deviation bands that are plotted above and below the moving average. The bands expand and contract based on price volatility, providing a visual representation of price volatility. Bollinger Bands are used to identify overbought or oversold conditions, potential trend reversals, and price volatility."
   ]
  },
  {
   "cell_type": "code",
   "execution_count": 44,
   "metadata": {},
   "outputs": [],
   "source": [
    "aapl_price['upper_band'], aapl_price['middle_band'], aapl_price['lower_band'] = talib.BBANDS(aapl_price['close'], \n",
    "                                                                                             timeperiod=20, \n",
    "                                                                                             nbdevup=2, \n",
    "                                                                                             nbdevdn=2, \n",
    "                                                                                             matype=0)\n",
    "\n",
    "msft_price['upper_band'], msft_price['middle_band'], msft_price['lower_band'] = talib.BBANDS(msft_price['close'], \n",
    "                                                                                             timeperiod=20, \n",
    "                                                                                             nbdevup=2, \n",
    "                                                                                             nbdevdn=2, \n",
    "                                                                                             matype=0)\n",
    "\n",
    "googl_price['upper_band'], googl_price['middle_band'], googl_price['lower_band'] = talib.BBANDS(googl_price['close'], \n",
    "                                                                                               timeperiod=20, \n",
    "                                                                                               nbdevup=2, \n",
    "                                                                                               nbdevdn=2, \n",
    "                                                                                               matype=0)\n",
    "\n",
    "amzn_price['upper_band'], amzn_price['middle_band'], amzn_price['lower_band'] = talib.BBANDS(amzn_price['close'], \n",
    "                                                                                             timeperiod=20, \n",
    "                                                                                             nbdevup=2, \n",
    "                                                                                             nbdevdn=2, \n",
    "                                                                                             matype=0)\n"
   ]
  },
  {
   "cell_type": "markdown",
   "metadata": {},
   "source": [
    "* **Average True Range (ATR):**  \n",
    "The Average True Range (ATR) is a volatility indicator that measures the average range between price highs and lows over a specified period. It provides insights into the volatility of a security, helping traders assess the potential risk and reward of a trade. The ATR is used to set stop-loss levels, determine position size, and assess market volatility.\n",
    "\n",
    "\n"
   ]
  },
  {
   "cell_type": "code",
   "execution_count": 46,
   "metadata": {},
   "outputs": [],
   "source": [
    "# Calculate Average True Range (ATR) for each stock\n",
    "aapl_price['ATR'] = talib.ATR(aapl_price['high'], aapl_price['low'], aapl_price['close'], timeperiod=14)\n",
    "msft_price['ATR'] = talib.ATR(msft_price['high'], msft_price['low'], msft_price['close'], timeperiod=14)\n",
    "googl_price['ATR'] = talib.ATR(googl_price['high'], googl_price['low'], googl_price['close'], timeperiod=14)\n",
    "amzn_price['ATR'] = talib.ATR(amzn_price['high'], amzn_price['low'], amzn_price['close'], timeperiod=14)\n"
   ]
  },
  {
   "cell_type": "markdown",
   "metadata": {},
   "source": [
    "* **Keltner Channels:**  \n",
    "Keltner Channels are volatility-based indicators that consist of an exponential moving average (EMA) and two bands based on the average true range (ATR). The bands expand and contract based on price volatility, providing insights into potential price movements. Keltner Channels are used to identify overbought or oversold conditions, trend direction, and potential entry or exit points for trades."
   ]
  },
  {
   "cell_type": "code",
   "execution_count": 48,
   "metadata": {},
   "outputs": [],
   "source": [
    "# Calculate Keltner Channels for AAPL\n",
    "aapl_price['Keltner_middle'] = aapl_price['close'].rolling(window=20).mean()\n",
    "aapl_price['Keltner_upper'] = aapl_price['Keltner_middle'] + (2 * aapl_price['ATR'])\n",
    "aapl_price['Keltner_lower'] = aapl_price['Keltner_middle'] - (2 * aapl_price['ATR'])\n",
    "\n",
    "# Calculate Keltner Channels for MSFT\n",
    "msft_price['Keltner_middle'] = msft_price['close'].rolling(window=20).mean()\n",
    "msft_price['Keltner_upper'] = msft_price['Keltner_middle'] + (2 * msft_price['ATR'])\n",
    "msft_price['Keltner_lower'] = msft_price['Keltner_middle'] - (2 * msft_price['ATR'])\n",
    "\n",
    "# Calculate Keltner Channels for GOOGL\n",
    "googl_price['Keltner_middle'] = googl_price['close'].rolling(window=20).mean()\n",
    "googl_price['Keltner_upper'] = googl_price['Keltner_middle'] + (2 * googl_price['ATR'])\n",
    "googl_price['Keltner_lower'] = googl_price['Keltner_middle'] - (2 * googl_price['ATR'])\n",
    "\n",
    "# Calculate Keltner Channels for AMZN\n",
    "amzn_price['Keltner_middle'] = amzn_price['close'].rolling(window=20).mean()\n",
    "amzn_price['Keltner_upper'] = amzn_price['Keltner_middle'] + (2 * amzn_price['ATR'])\n",
    "amzn_price['Keltner_lower'] = amzn_price['Keltner_middle'] - (2 * amzn_price['ATR'])\n"
   ]
  },
  {
   "cell_type": "markdown",
   "metadata": {},
   "source": [
    "### Volume Indicators measures:"
   ]
  },
  {
   "cell_type": "markdown",
   "metadata": {},
   "source": [
    "* **On-Balance Volume (OBV):**   \n",
    "On-Balance Volume (OBV) is a volume indicator that tracks cumulative volume to predict price movements. It adds or subtracts the volume based on the price direction, providing insights into the strength of buying and selling pressure. OBV is used to confirm price trends, identify potential reversals, and assess the flow of money in and out of a security."
   ]
  },
  {
   "cell_type": "code",
   "execution_count": 50,
   "metadata": {},
   "outputs": [],
   "source": [
    "aapl_price['OBV'] = talib.OBV(aapl_price['close'], aapl_price['volume'])\n",
    "msft_price['OBV'] = talib.OBV(msft_price['close'], msft_price['volume'])\n",
    "googl_price['OBV'] = talib.OBV(googl_price['close'], googl_price['volume'])\n",
    "amzn_price['OBV'] = talib.OBV(amzn_price['close'], amzn_price['volume'])\n"
   ]
  },
  {
   "cell_type": "markdown",
   "metadata": {},
   "source": [
    "* **Accumulation/Distribution Line:**   \n",
    "The Accumulation/Distribution Line is a volume indicator that combines price and volume data to assess the flow of money in and out of a security. It calculates the value based on the close location relative to the high and low price, providing insights into buying and selling pressure. The Accumulation/Distribution Line is used to confirm price trends, identify potential reversals, and assess the strength of price movements."
   ]
  },
  {
   "cell_type": "code",
   "execution_count": 54,
   "metadata": {},
   "outputs": [],
   "source": [
    "aapl_price['AD'] = ((aapl_price['close'] - aapl_price['low']) - (aapl_price['high'] - aapl_price['close'])) / (aapl_price['high'] - aapl_price['low']) * aapl_price['volume']\n",
    "aapl_price['AD_line'] = aapl_price['AD'].cumsum()\n",
    "\n",
    "msft_price['AD'] = ((msft_price['close'] - msft_price['low']) - (msft_price['high'] - msft_price['close'])) / (msft_price['high'] - msft_price['low']) * msft_price['volume']\n",
    "\n",
    "googl_price['AD'] = ((googl_price['close'] - googl_price['low']) - (googl_price['high'] - googl_price['close'])) / (googl_price['high'] - googl_price['low']) * googl_price['volume']\n",
    "\n",
    "amzn_price['AD'] = ((amzn_price['close'] - amzn_price['low']) - (amzn_price['high'] - amzn_price['close'])) / (amzn_price['high'] - amzn_price['low']) * amzn_price['volume']\n"
   ]
  },
  {
   "cell_type": "markdown",
   "metadata": {},
   "source": [
    "* **Chaikin Money Flow (CMF):**   \n",
    "Chaikin Money Flow (CMF) is a volume indicator that measures the buying and selling pressure for a security. It combines price and volume data to calculate the value, providing insights into the flow of money in and out of a security. The CMF is used to confirm price trends, identify potential reversals, and assess the strength of price movements."
   ]
  },
  {
   "cell_type": "code",
   "execution_count": 56,
   "metadata": {},
   "outputs": [],
   "source": [
    "# Calculate Chaikin Money Flow (CMF) for AAPL\n",
    "aapl_price['MF_multiplier'] = ((aapl_price['close'] - aapl_price['low']) - (aapl_price['high'] - aapl_price['close'])) / (aapl_price['high'] - aapl_price['low'])\n",
    "aapl_price['MF_volume'] = aapl_price['MF_multiplier'] * aapl_price['volume']\n",
    "aapl_price['CMF'] = aapl_price['MF_volume'].rolling(window=20).sum() / aapl_price['volume'].rolling(window=20).sum()\n",
    "\n",
    "# Calculate Chaikin Money Flow (CMF) for MSFT\n",
    "msft_price['MF_multiplier'] = ((msft_price['close'] - msft_price['low']) - (msft_price['high'] - msft_price['close'])) / (msft_price['high'] - msft_price['low'])\n",
    "msft_price['MF_volume'] = msft_price['MF_multiplier'] * msft_price['volume']\n",
    "msft_price['CMF'] = msft_price['MF_volume'].rolling(window=20).sum() / msft_price['volume'].rolling(window=20).sum()\n",
    "\n",
    "# Calculate Chaikin Money Flow (CMF) for GOOGL\n",
    "googl_price['MF_multiplier'] = ((googl_price['close'] - googl_price['low']) - (googl_price['high'] - googl_price['close'])) / (googl_price['high'] - googl_price['low'])\n",
    "googl_price['MF_volume'] = googl_price['MF_multiplier'] * googl_price['volume']\n",
    "googl_price['CMF'] = googl_price['MF_volume'].rolling(window=20).sum() / googl_price['volume'].rolling(window=20).sum()\n",
    "\n",
    "# Calculate Chaikin Money Flow (CMF) for AMZN\n",
    "amzn_price['MF_multiplier'] = ((amzn_price['close'] - amzn_price['low']) - (amzn_price['high'] - amzn_price['close'])) / (amzn_price['high'] - amzn_price['low'])\n",
    "amzn_price['MF_volume'] = amzn_price['MF_multiplier'] * amzn_price['volume']\n",
    "amzn_price['CMF'] = amzn_price['MF_volume'].rolling(window=20).sum() / amzn_price['volume'].rolling(window=20).sum()\n"
   ]
  },
  {
   "cell_type": "code",
   "execution_count": 57,
   "metadata": {},
   "outputs": [
    {
     "data": {
      "text/html": [
       "<div>\n",
       "<style scoped>\n",
       "    .dataframe tbody tr th:only-of-type {\n",
       "        vertical-align: middle;\n",
       "    }\n",
       "\n",
       "    .dataframe tbody tr th {\n",
       "        vertical-align: top;\n",
       "    }\n",
       "\n",
       "    .dataframe thead th {\n",
       "        text-align: right;\n",
       "    }\n",
       "</style>\n",
       "<table border=\"1\" class=\"dataframe\">\n",
       "  <thead>\n",
       "    <tr style=\"text-align: right;\">\n",
       "      <th></th>\n",
       "      <th>close</th>\n",
       "      <th>high</th>\n",
       "      <th>low</th>\n",
       "      <th>open</th>\n",
       "      <th>volume</th>\n",
       "      <th>sma_20</th>\n",
       "      <th>ema_20</th>\n",
       "      <th>macd</th>\n",
       "      <th>macd_signal</th>\n",
       "      <th>sar</th>\n",
       "      <th>RSI</th>\n",
       "      <th>slowk</th>\n",
       "      <th>slowd</th>\n",
       "      <th>ROC</th>\n",
       "      <th>upper_band</th>\n",
       "      <th>middle_band</th>\n",
       "      <th>lower_band</th>\n",
       "      <th>ATR</th>\n",
       "      <th>Keltner_middle</th>\n",
       "      <th>Keltner_upper</th>\n",
       "      <th>Keltner_lower</th>\n",
       "      <th>OBV</th>\n",
       "      <th>AD</th>\n",
       "      <th>AD_line</th>\n",
       "      <th>MF_multiplier</th>\n",
       "      <th>MF_volume</th>\n",
       "      <th>CMF</th>\n",
       "    </tr>\n",
       "    <tr>\n",
       "      <th>date</th>\n",
       "      <th></th>\n",
       "      <th></th>\n",
       "      <th></th>\n",
       "      <th></th>\n",
       "      <th></th>\n",
       "      <th></th>\n",
       "      <th></th>\n",
       "      <th></th>\n",
       "      <th></th>\n",
       "      <th></th>\n",
       "      <th></th>\n",
       "      <th></th>\n",
       "      <th></th>\n",
       "      <th></th>\n",
       "      <th></th>\n",
       "      <th></th>\n",
       "      <th></th>\n",
       "      <th></th>\n",
       "      <th></th>\n",
       "      <th></th>\n",
       "      <th></th>\n",
       "      <th></th>\n",
       "      <th></th>\n",
       "      <th></th>\n",
       "      <th></th>\n",
       "      <th></th>\n",
       "      <th></th>\n",
       "    </tr>\n",
       "  </thead>\n",
       "  <tbody>\n",
       "    <tr>\n",
       "      <th>2010-01-04</th>\n",
       "      <td>7.643214</td>\n",
       "      <td>7.660714</td>\n",
       "      <td>7.585000</td>\n",
       "      <td>7.622500</td>\n",
       "      <td>493729600.0</td>\n",
       "      <td>NaN</td>\n",
       "      <td>7.643214</td>\n",
       "      <td>NaN</td>\n",
       "      <td>NaN</td>\n",
       "      <td>NaN</td>\n",
       "      <td>NaN</td>\n",
       "      <td>NaN</td>\n",
       "      <td>NaN</td>\n",
       "      <td>NaN</td>\n",
       "      <td>NaN</td>\n",
       "      <td>NaN</td>\n",
       "      <td>NaN</td>\n",
       "      <td>NaN</td>\n",
       "      <td>NaN</td>\n",
       "      <td>NaN</td>\n",
       "      <td>NaN</td>\n",
       "      <td>4.937296e+08</td>\n",
       "      <td>2.654966e+08</td>\n",
       "      <td>2.654966e+08</td>\n",
       "      <td>0.537737</td>\n",
       "      <td>2.654966e+08</td>\n",
       "      <td>NaN</td>\n",
       "    </tr>\n",
       "    <tr>\n",
       "      <th>2010-01-05</th>\n",
       "      <td>7.656429</td>\n",
       "      <td>7.699643</td>\n",
       "      <td>7.616071</td>\n",
       "      <td>7.664286</td>\n",
       "      <td>601904800.0</td>\n",
       "      <td>NaN</td>\n",
       "      <td>7.644473</td>\n",
       "      <td>NaN</td>\n",
       "      <td>NaN</td>\n",
       "      <td>7.585000</td>\n",
       "      <td>NaN</td>\n",
       "      <td>NaN</td>\n",
       "      <td>NaN</td>\n",
       "      <td>NaN</td>\n",
       "      <td>NaN</td>\n",
       "      <td>NaN</td>\n",
       "      <td>NaN</td>\n",
       "      <td>NaN</td>\n",
       "      <td>NaN</td>\n",
       "      <td>NaN</td>\n",
       "      <td>NaN</td>\n",
       "      <td>1.095634e+09</td>\n",
       "      <td>-2.057486e+07</td>\n",
       "      <td>2.449217e+08</td>\n",
       "      <td>-0.034183</td>\n",
       "      <td>-2.057486e+07</td>\n",
       "      <td>NaN</td>\n",
       "    </tr>\n",
       "    <tr>\n",
       "      <th>2010-01-06</th>\n",
       "      <td>7.534643</td>\n",
       "      <td>7.686786</td>\n",
       "      <td>7.526786</td>\n",
       "      <td>7.656429</td>\n",
       "      <td>552160000.0</td>\n",
       "      <td>NaN</td>\n",
       "      <td>7.634013</td>\n",
       "      <td>NaN</td>\n",
       "      <td>NaN</td>\n",
       "      <td>7.699643</td>\n",
       "      <td>NaN</td>\n",
       "      <td>NaN</td>\n",
       "      <td>NaN</td>\n",
       "      <td>NaN</td>\n",
       "      <td>NaN</td>\n",
       "      <td>NaN</td>\n",
       "      <td>NaN</td>\n",
       "      <td>NaN</td>\n",
       "      <td>NaN</td>\n",
       "      <td>NaN</td>\n",
       "      <td>NaN</td>\n",
       "      <td>5.434744e+08</td>\n",
       "      <td>-4.979289e+08</td>\n",
       "      <td>-2.530072e+08</td>\n",
       "      <td>-0.901784</td>\n",
       "      <td>-4.979289e+08</td>\n",
       "      <td>NaN</td>\n",
       "    </tr>\n",
       "    <tr>\n",
       "      <th>2010-01-07</th>\n",
       "      <td>7.520714</td>\n",
       "      <td>7.571429</td>\n",
       "      <td>7.466071</td>\n",
       "      <td>7.562500</td>\n",
       "      <td>477131200.0</td>\n",
       "      <td>NaN</td>\n",
       "      <td>7.623222</td>\n",
       "      <td>NaN</td>\n",
       "      <td>NaN</td>\n",
       "      <td>7.699643</td>\n",
       "      <td>NaN</td>\n",
       "      <td>NaN</td>\n",
       "      <td>NaN</td>\n",
       "      <td>NaN</td>\n",
       "      <td>NaN</td>\n",
       "      <td>NaN</td>\n",
       "      <td>NaN</td>\n",
       "      <td>NaN</td>\n",
       "      <td>NaN</td>\n",
       "      <td>NaN</td>\n",
       "      <td>NaN</td>\n",
       "      <td>6.634320e+07</td>\n",
       "      <td>1.778734e+07</td>\n",
       "      <td>-2.352198e+08</td>\n",
       "      <td>0.037280</td>\n",
       "      <td>1.778734e+07</td>\n",
       "      <td>NaN</td>\n",
       "    </tr>\n",
       "    <tr>\n",
       "      <th>2010-01-08</th>\n",
       "      <td>7.570714</td>\n",
       "      <td>7.571429</td>\n",
       "      <td>7.466429</td>\n",
       "      <td>7.510714</td>\n",
       "      <td>447610800.0</td>\n",
       "      <td>NaN</td>\n",
       "      <td>7.618222</td>\n",
       "      <td>NaN</td>\n",
       "      <td>NaN</td>\n",
       "      <td>7.690300</td>\n",
       "      <td>NaN</td>\n",
       "      <td>NaN</td>\n",
       "      <td>NaN</td>\n",
       "      <td>NaN</td>\n",
       "      <td>NaN</td>\n",
       "      <td>NaN</td>\n",
       "      <td>NaN</td>\n",
       "      <td>NaN</td>\n",
       "      <td>NaN</td>\n",
       "      <td>NaN</td>\n",
       "      <td>NaN</td>\n",
       "      <td>5.139540e+08</td>\n",
       "      <td>4.415166e+08</td>\n",
       "      <td>2.062968e+08</td>\n",
       "      <td>0.986385</td>\n",
       "      <td>4.415166e+08</td>\n",
       "      <td>NaN</td>\n",
       "    </tr>\n",
       "  </tbody>\n",
       "</table>\n",
       "</div>"
      ],
      "text/plain": [
       "               close      high       low      open       volume  sma_20  \\\n",
       "date                                                                      \n",
       "2010-01-04  7.643214  7.660714  7.585000  7.622500  493729600.0     NaN   \n",
       "2010-01-05  7.656429  7.699643  7.616071  7.664286  601904800.0     NaN   \n",
       "2010-01-06  7.534643  7.686786  7.526786  7.656429  552160000.0     NaN   \n",
       "2010-01-07  7.520714  7.571429  7.466071  7.562500  477131200.0     NaN   \n",
       "2010-01-08  7.570714  7.571429  7.466429  7.510714  447610800.0     NaN   \n",
       "\n",
       "              ema_20  macd  macd_signal       sar  RSI  slowk  slowd  ROC  \\\n",
       "date                                                                        \n",
       "2010-01-04  7.643214   NaN          NaN       NaN  NaN    NaN    NaN  NaN   \n",
       "2010-01-05  7.644473   NaN          NaN  7.585000  NaN    NaN    NaN  NaN   \n",
       "2010-01-06  7.634013   NaN          NaN  7.699643  NaN    NaN    NaN  NaN   \n",
       "2010-01-07  7.623222   NaN          NaN  7.699643  NaN    NaN    NaN  NaN   \n",
       "2010-01-08  7.618222   NaN          NaN  7.690300  NaN    NaN    NaN  NaN   \n",
       "\n",
       "            upper_band  middle_band  lower_band  ATR  Keltner_middle  \\\n",
       "date                                                                   \n",
       "2010-01-04         NaN          NaN         NaN  NaN             NaN   \n",
       "2010-01-05         NaN          NaN         NaN  NaN             NaN   \n",
       "2010-01-06         NaN          NaN         NaN  NaN             NaN   \n",
       "2010-01-07         NaN          NaN         NaN  NaN             NaN   \n",
       "2010-01-08         NaN          NaN         NaN  NaN             NaN   \n",
       "\n",
       "            Keltner_upper  Keltner_lower           OBV            AD  \\\n",
       "date                                                                   \n",
       "2010-01-04            NaN            NaN  4.937296e+08  2.654966e+08   \n",
       "2010-01-05            NaN            NaN  1.095634e+09 -2.057486e+07   \n",
       "2010-01-06            NaN            NaN  5.434744e+08 -4.979289e+08   \n",
       "2010-01-07            NaN            NaN  6.634320e+07  1.778734e+07   \n",
       "2010-01-08            NaN            NaN  5.139540e+08  4.415166e+08   \n",
       "\n",
       "                 AD_line  MF_multiplier     MF_volume  CMF  \n",
       "date                                                        \n",
       "2010-01-04  2.654966e+08       0.537737  2.654966e+08  NaN  \n",
       "2010-01-05  2.449217e+08      -0.034183 -2.057486e+07  NaN  \n",
       "2010-01-06 -2.530072e+08      -0.901784 -4.979289e+08  NaN  \n",
       "2010-01-07 -2.352198e+08       0.037280  1.778734e+07  NaN  \n",
       "2010-01-08  2.062968e+08       0.986385  4.415166e+08  NaN  "
      ]
     },
     "execution_count": 57,
     "metadata": {},
     "output_type": "execute_result"
    }
   ],
   "source": [
    "aapl_price.head()"
   ]
  },
  {
   "cell_type": "code",
   "execution_count": 58,
   "metadata": {},
   "outputs": [
    {
     "data": {
      "text/plain": [
       "close              0\n",
       "high               0\n",
       "low                0\n",
       "open               0\n",
       "volume             0\n",
       "sma_20            19\n",
       "ema_20             0\n",
       "macd              33\n",
       "macd_signal       33\n",
       "sar                1\n",
       "RSI               14\n",
       "slowk             17\n",
       "slowd             17\n",
       "ROC               10\n",
       "upper_band        19\n",
       "middle_band       19\n",
       "lower_band        19\n",
       "ATR               14\n",
       "Keltner_middle    19\n",
       "Keltner_upper     19\n",
       "Keltner_lower     19\n",
       "OBV                0\n",
       "AD                 0\n",
       "AD_line            0\n",
       "MF_multiplier      0\n",
       "MF_volume          0\n",
       "CMF               19\n",
       "dtype: int64"
      ]
     },
     "execution_count": 58,
     "metadata": {},
     "output_type": "execute_result"
    }
   ],
   "source": [
    "aapl_price.isnull().sum()"
   ]
  },
  {
   "cell_type": "markdown",
   "metadata": {},
   "source": [
    "#### Fundamental Metrics\n",
    "\n",
    "In addition to technical indicators, fundamental metrics provide valuable insights into a company's financial health, performance, and valuation. These metrics are derived from financial statements, earnings reports, and other fundamental data sources, offering a comprehensive view of a company's operations and prospects. By incorporating fundamental metrics into our feature set, we can enhance the predictive power of our machine learning models and gain a deeper understanding of the factors driving stock price movements.\n",
    "\n",
    "Fundamental metrics are quantitative data points derived from a company's financial statements, earnings reports, and other fundamental data sources. These metrics provide insights into a company's financial health, performance, valuation, and growth prospects, helping investors make informed decisions about stock investments. By analyzing fundamental metrics, investors can assess the intrinsic value of a company, evaluate its competitive position, and identify potential investment opportunities.\n",
    "\n",
    "\n",
    "* Categories of Fundamental Metrics\n",
    "\t1.\t**Valuation Metrics**: These metrics assess the relative value of a company's stock by comparing its market price to fundamental indicators such as earnings, book value, and cash flow. Examples include:\n",
    "\t\t- `Price-to-Earnings (P/E) Ratio`: Compares a company's stock price to its earnings per share to evaluate valuation.\n",
    "\t\t- `Price-to-Book (P/B) Ratio`: Compares a company's stock price to its book value per share to assess valuation.\n",
    "\t\t- `Price-to-Sales (P/S) Ratio`: Compares a company's stock price to its revenue per share to evaluate valuation.\n",
    "\n",
    "\t2.\t**Profitability Metrics**: These metrics measure a company's ability to generate profits and manage costs effectively. Examples include:\n",
    "\t\t- `Return on Equity (ROE)`: Measures a company's profitability by evaluating its return on shareholders' equity.\n",
    "\t\t- `Net Profit Margin`: Measures the percentage of revenue that translates into profit after accounting for expenses.\n",
    "\t\t- `Operating Margin`: Measures the percentage of revenue that translates into profit after accounting for operating expenses.\n",
    "\n",
    "\t3.\t**Growth Metrics**: These metrics assess a company's growth prospects and potential for future expansion. Examples include:\n",
    "\t\t- `Revenue Growth Rate`: Measures the percentage increase in a company's revenue over a specific period.\n",
    "\t\t- `Earnings Growth Rate`: Measures the percentage increase in a company's earnings over a specific period.\n",
    "\t\t- `Dividend Yield`: Measures the percentage of dividends paid relative to a company's stock price.\n",
    "\n",
    "\t4.\t**Financial Health Metrics**: These metrics evaluate a company's financial stability, liquidity, and debt levels. Examples include:\n",
    "\t\t- `Debt-to-Equity Ratio`: Measures a company's debt relative to its equity to assess financial leverage.\n",
    "\t\t- `Current Ratio`: Measures a company's ability to cover short-term liabilities with its short-term assets.\n",
    "\t\t- `Interest Coverage Ratio`: Measures a company's ability to pay interest on its debt with its earnings."
   ]
  },
  {
   "cell_type": "markdown",
   "metadata": {},
   "source": [
    "____"
   ]
  }
 ],
 "metadata": {
  "kernelspec": {
   "display_name": "financial-ml-env",
   "language": "python",
   "name": "python3"
  },
  "language_info": {
   "codemirror_mode": {
    "name": "ipython",
    "version": 3
   },
   "file_extension": ".py",
   "mimetype": "text/x-python",
   "name": "python",
   "nbconvert_exporter": "python",
   "pygments_lexer": "ipython3",
   "version": "3.11.10"
  }
 },
 "nbformat": 4,
 "nbformat_minor": 2
}
