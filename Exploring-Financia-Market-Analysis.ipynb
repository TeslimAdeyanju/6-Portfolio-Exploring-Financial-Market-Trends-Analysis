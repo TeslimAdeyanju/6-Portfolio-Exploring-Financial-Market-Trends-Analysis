{
 "cells": [
  {
   "cell_type": "markdown",
   "metadata": {},
   "source": [
    "# Stock Market Analysis and Prediction: Leveraging Data Science for Insights"
   ]
  },
  {
   "cell_type": "markdown",
   "metadata": {},
   "source": [
    "### Table of Contents\n",
    "\n",
    "By following this roadmap, readers can gain a comprehensive understanding of the stock market, learn how to leverage Data Science for financial analysis, and optimize investment strategies for maximum returns. Let's get started!\n",
    "\n",
    "1. [Introduction](#introduction)  \n",
    "\n",
    "2. [Data Collection and Preprocessing](#data-collection-and-preprocessing)  \n",
    "    - [key libraries](#stock-data-retrieval-with-apis)   \n",
    "   - [Stock Data Retrieval with APIs](#stock-data-retrieval-with-apis)  \n",
    "   - [Data Cleaning and Formatting](#data-cleaning-and-formatting)  \n",
    "   - [Feature Engineering for Machine Learning](#feature-engineering-for-machine-learning)  \n",
    "     - [Technical Indicators](#technical-indicators)  \n",
    "     - [Fundamental Metrics](#fundamental-metrics)  \n",
    "   - [Exploratory Data Analysis (EDA)](#exploratory-data-analysis-eda)  \n",
    "     - [Cumulative Returns](#cumulative-returns)  \n",
    "     - [Skewness and Kurtosis](#skewness-and-kurtosis)  \n",
    "     - [Pairplots and Correlation Matrix](#pairplots-and-correlation-matrix)  \n",
    "\n",
    "3. [Descriptive Financial Metrics](#descriptive-financial-metrics)  \n",
    "   - [Performance Metrics](#performance-metrics)  \n",
    "     - [Beta and Alpha](#beta-and-alpha)  \n",
    "     - [Sharpe Ratio](#sharpe-ratio)  \n",
    "   - [Risk Analysis and Volatility](#risk-analysis-and-volatility)  \n",
    "\n",
    "4. [Machine Learning for Financial Insights](#machine-learning-for-financial-insights)  \n",
    "   - [Predictive Modeling](#predictive-modeling)  \n",
    "     - [Stock Price Forecasting](#stock-price-forecasting)  \n",
    "     - [Volatility Prediction](#volatility-prediction)  \n",
    "   - [Classification Tasks](#classification-tasks)  \n",
    "     - [Stock Movement Prediction](#stock-movement-prediction)  \n",
    "     - [Risk Categorization](#risk-categorization)  \n",
    "   - [Clustering for Stock Grouping](#clustering-for-stock-grouping)  \n",
    "   - [Model Evaluation Metrics](#model-evaluation-metrics)  \n",
    "\n",
    "5. [Portfolio Optimization](#portfolio-optimization)  \n",
    "   - [What is a Portfolio?](#what-is-a-portfolio)  \n",
    "   - [Markowitz Mean-Variance Optimization](#markowitz-mean-variance-optimization)  \n",
    "   - [Black-Litterman Allocation Model](#black-litterman-allocation-model)  \n",
    "     - [Prior](#prior)  \n",
    "     - [Views](#views)  \n",
    "     - [Confidences](#confidences)  \n",
    "   - [Reinforcement Learning for Portfolio Optimization](#reinforcement-learning-for-portfolio-optimization)  \n",
    "\n",
    "6. [Backtesting Investment Strategies](#backtesting-investment-strategies)  \n",
    "   - [Technical Strategy Backtesting](#technical-strategy-backtesting)  \n",
    "     - [RSI and Moving Average Crossover](#rsi-and-moving-average-crossover)  \n",
    "     - [Hourly, Daily, and Weekly Data](#hourly-daily-and-weekly-data)  \n",
    "   - [Comparing ML-Based vs. Traditional Approaches](#comparing-ml-based-vs-traditional-approaches)  \n",
    "\n",
    "7. [Advanced Machine Learning Applications](#advanced-machine-learning-applications)  \n",
    "   - [Deep Learning for Sequential Data](#deep-learning-for-sequential-data)  \n",
    "   - [Anomaly Detection in Stock Behavior](#anomaly-detection-in-stock-behavior)  \n",
    "   - [Reinforcement Learning for Dynamic Strategies](#reinforcement-learning-for-dynamic-strategies)  \n",
    "\n",
    "8. [Insights and Conclusions](#insights-and-conclusions)  \n",
    "   - [Summary of Findings](#summary-of-findings)  \n",
    "   - [Actionable Insights for Investors](#actionable-insights-for-investors)  \n",
    "   - [Limitations and Future Work](#limitations-and-future-work)  \n"
   ]
  },
  {
   "cell_type": "markdown",
   "metadata": {},
   "source": [
    "## Introduction\n",
    "____"
   ]
  },
  {
   "cell_type": "markdown",
   "metadata": {},
   "source": [
    "This notebook explores the intersection of Data Science and finance through the analysis of stock data for four prominent technology companies: Apple (AAPL), Microsoft (MSFT), Google (GOOGL), and Amazon (AMZN).\n",
    "\n",
    "**Objective:**\n",
    "\n",
    "The primary objective of this project is to demonstrate how Python and Data Science techniques can be effectively utilized to analyze stock market trends, evaluate investment performance, and ultimately optimize investment strategies.\n",
    "\n",
    "**Problem Statement:**\n",
    "\n",
    "The stock market presents a complex and dynamic environment. Investors face numerous challenges, including:\n",
    "\n",
    "* **Identifying profitable investment opportunities:** Understanding market trends, evaluating company performance, and predicting future stock prices are crucial for making informed investment decisions.\n",
    "* **Managing risk:** Effectively assessing and mitigating investment risks is essential to protect capital and achieve long-term financial goals.\n",
    "* **Optimizing portfolio allocation:** Determining the optimal allocation of assets across different stocks and asset classes is a critical aspect of portfolio management.\n",
    "\n",
    "This project aims to address these challenges by:\n",
    "\n",
    "* **Collecting and analyzing historical stock data:** Utilizing APIs to retrieve stock prices, financial statements, and other relevant data.\n",
    "\n",
    "* **Employing data preprocessing and feature engineering techniques:** Cleaning, transforming, and creating new features from raw data to enhance analysis and model performance.\n",
    "\n",
    "* **Calculating key financial metrics:** Evaluating stock performance using metrics such as beta, alpha, Sharpe Ratio, and volatility.\n",
    "\n",
    "* **Implementing machine learning models:** Developing predictive models for stock price forecasting, volatility prediction, and stock movement classification.\n",
    "\n",
    "* **Optimizing portfolio allocation:** Applying portfolio optimization techniques, including Markowitz Mean-Variance Optimization and Black-Litterman allocation, to construct efficient portfolios.\n",
    "\n",
    "* **Backtesting investment strategies:** Evaluating the performance of different trading strategies, including technical analysis-based and machine learning-based approaches, using historical data.\n",
    "\n",
    "By following the steps outlined in this notebook, readers will gain a practical understanding of how Data Science can be applied to the financial domain, empowering them to make more informed investment decisions and potentially improve their investment outcomes."
   ]
  },
  {
   "cell_type": "markdown",
   "metadata": {},
   "source": [
    "\n",
    "\n",
    "\n",
    "\n",
    "As a finance data analyst, understanding how to analyze the stock market is a fundamental skill that bridges the gap between raw data and actionable financial insights. The purpose of this notebook is to demonstrate essential skills in financial analysis, leveraging Python and data science techniques to extract meaningful insights from stock market data. By diving into practical examples, this project aims to showcase how data-driven decisions can be applied in the real world to optimize investments and enhance portfolio management.\n",
    "\n",
    "For this analysis, I have carefully chosen four prominent stocks: **Apple (AAPL)**, **Microsoft (MSFT)**, **Google (Alphabet) (GOOGL)**, and **Amazon (AMZN)**. These companies share key characteristics that make them highly relevant for financial analysis:\n",
    "\n",
    "1. **Market Leaders**: These stocks belong to some of the largest companies in the world by market capitalization, dominating their respective industries—technology, e-commerce, and cloud computing.\n",
    "   \n",
    "2. **Innovation and Growth**: They are known for their consistent innovation and ability to adapt, making them pivotal players in driving technological and economic trends globally.\n",
    "\n",
    "3. **Broad Investor Interest**: Their stocks are widely traded and held by a diverse range of institutional and retail investors, making them representative of broader market movements.\n",
    "\n",
    "4. **Global Influence**: These companies operate on a global scale, impacting multiple sectors and economies, which adds complexity and richness to their market behavior.\n",
    "\n",
    "Through this analysis, I aim to provide a detailed exploration of their historical stock performance, identify key financial metrics, and develop predictive insights. The focus is not just on theoretical concepts but on practical, actionable results that showcase the power of combining finance and data science.\n"
   ]
  },
  {
   "cell_type": "markdown",
   "metadata": {},
   "source": [
    "## Data Collection and Preprocessing\n",
    "____"
   ]
  },
  {
   "cell_type": "markdown",
   "metadata": {},
   "source": [
    "### Key Libraries"
   ]
  },
  {
   "cell_type": "markdown",
   "metadata": {},
   "source": [
    "The success of this project hinges on leveraging powerful Python libraries that enable financial analysis, portfolio optimization, and technical analysis. These libraries form the backbone of the notebook, facilitating data retrieval, manipulation, visualization, and modeling. Below is an overview of the key libraries used and their specific contributions to the project:\n",
    "\n",
    "\n",
    "- **`yfinance`** \n",
    "  A popular library that provides access to historical stock price data, financial statements, and other key metrics for a wide range of stocks. It is a valuable resource for extracting stock data directly from Yahoo Finance for analysis.\n",
    "  ```python\n",
    "  !pip install yfinance\n",
    "  import yfinance as yf\n",
    "  ```\n",
    "\n",
    "- **`Quantstats`** \n",
    "  This library specializes in quantitative finance, offering tools for analyzing investment strategies, backtesting, and evaluating portfolio performance. It provides a comprehensive suite of functions for detailed financial analysis and visualization of key metrics.\n",
    "  ```python\n",
    "  !pip install quantstats\n",
    "  import quantstats as qs\n",
    "  ```\n",
    "\n",
    "\n",
    "- **`PyPortfolioOpt`**\n",
    "  This library focuses on portfolio optimization, enabling users to construct optimal portfolios based on various criteria such as risk, return, and constraints. It is a powerful tool for optimizing investment strategies, including mean-variance optimization and Black-Litterman models.\n",
    "\n",
    "  ```python\n",
    "  !pip install PyPortfolioOpt\n",
    "  from pypfopt.efficient_frontier import EfficientFrontier\n",
    "  from pypfopt import risk_models\n",
    "  from pypfopt import expected_returns\n",
    "  from pypfopt import plotting\n",
    "  ```\n",
    "\n",
    "\n",
    "- **`TA-Lib`** \n",
    "  A Technical Analysis Library (TA-Lib) offers a wide range of technical indicators for analyzing stock price data. It includes functions for calculating moving averages, RSI, MACD, Bollinger Bands, and other commonly used technical indicators.\n",
    "\n",
    "  ```python\n",
    "  !pip install TA-Lib\n",
    "  import talib\n",
    "  ```\n",
    "\n",
    "- **`Plotly`**\n",
    "  This library offers interactive visualization capabilities, allowing users to create dynamic and engaging plots for exploring stock data. It provides tools for creating interactive charts, dashboards, and visualizations.\n",
    "\n",
    "  ```python\n",
    "  !pip install plotly\n",
    "  import plotly.express as px\n",
    "  import plotly.graph_objects as go\n",
    "  ```\n",
    "\n",
    "Other commonly used libraries: \n",
    "\n",
    "- **`Pandas`**\n",
    "  This library is essential for data manipulation and analysis, allowing us to handle and preprocess stock data efficiently. It provides powerful data structures and functions for cleaning, transforming, and analyzing financial data.\n",
    "\n",
    "- **`Numpy`**\n",
    "  A fundamental library for numerical computing, Numpy provides support for large, multi-dimensional arrays and matrices, along with a collection of mathematical functions to operate on these arrays.\n",
    "\n",
    "- **`Matplotlib and Seaborn`**\n",
    "  This combination of libraries is used for data visualization, enabling the creation of informative plots, charts, and graphs to visualize trends, patterns, and relationships in the stock data.\n",
    "\n",
    "- **`Scikit-Learn`**\n",
    "  A machine learning library that provides a wide range of tools for building predictive models, evaluating performance, and optimizing parameters. It includes functions for regression, classification, clustering, and model evaluation.\n",
    "\n",
    "By combining these libraries with Python's robust data science capabilities, we can unlock the full potential of financial analysis and stock market prediction. The subsequent sections will delve into the process of collecting, preprocessing, and analyzing stock data to derive actionable insights for investors."
   ]
  },
  {
   "cell_type": "markdown",
   "metadata": {},
   "source": [
    "### Stock Data Retrieval with APIs"
   ]
  },
  {
   "cell_type": "markdown",
   "metadata": {},
   "source": [
    "To initiate our analysis, we will retrieve historical stock price data for four prominent technology companies: \n",
    "- Apple: aapl\n",
    "\n",
    "- Microsoft: msft\n",
    "\n",
    "- Google (Alphabet): googl\n",
    "\n",
    "- Amazon: amzn\n",
    "\n",
    "We will utilize the `yfinance` library to extract this data directly from Yahoo Finance, a popular source for financial information. These companies were selected due to their significant market capitalization, technological innovation, and widespread global influence, making them representative of the technology sector and attractive for investment analysis.  The data will include daily stock prices, trading volume, and other relevant metrics that will serve as the foundation for our analysis. Let's begin by importing the necessary  stock data.\n",
    "\n",
    "The timeframe for this analysis will be from January 1, 2010, to December 31, 2021, covering over a decade of historical stock performance. This extended period will allow us to capture long-term trends, volatility, and key events that have shaped the stock market landscape. By analyzing this data, we can gain valuable insights into the historical performance of these companies and identify patterns that may inform future investment decisions.\n"
   ]
  },
  {
   "cell_type": "code",
   "execution_count": 89,
   "metadata": {},
   "outputs": [
    {
     "name": "stderr",
     "output_type": "stream",
     "text": [
      "[*********************100%***********************]  1 of 1 completed\n",
      "[*********************100%***********************]  1 of 1 completed\n",
      "[*********************100%***********************]  1 of 1 completed\n",
      "[*********************100%***********************]  1 of 1 completed\n"
     ]
    }
   ],
   "source": [
    "import quantstats as qs\n",
    "import pandas as pd\n",
    "\n",
    "# Define the time window\n",
    "start = '2010-01-01'\n",
    "end = '2021-12-31'\n",
    "\n",
    "# Get returns for each stock within the defined time window\n",
    "aapl = qs.utils.download_returns('AAPL').loc[start:end]\n",
    "msft = qs.utils.download_returns('MSFT').loc[start:end]\n",
    "googl = qs.utils.download_returns('GOOGL').loc[start:end]\n",
    "amzn = qs.utils.download_returns('AMZN').loc[start:end]\n",
    "\n",
    "# Save data to CSV files\n",
    "aapl.to_csv('aapl_returns.csv')\n",
    "msft.to_csv('msft_returns.csv')\n",
    "googl.to_csv('googl_returns.csv')\n",
    "amzn.to_csv('amzn_returns.csv')"
   ]
  },
  {
   "cell_type": "code",
   "execution_count": 90,
   "metadata": {},
   "outputs": [],
   "source": [
    "# Load data from CSV files\n",
    "aapl_data = pd.read_csv('aapl_returns.csv', index_col=0, parse_dates=True) \n",
    "msft_data = pd.read_csv('msft_returns.csv', index_col=0, parse_dates=True) \n",
    "googl_data = pd.read_csv('googl_returns.csv', index_col=0, parse_dates=True) \n",
    "amzn_data = pd.read_csv('amzn_returns.csv', index_col=0, parse_dates=True) "
   ]
  },
  {
   "cell_type": "code",
   "execution_count": 91,
   "metadata": {},
   "outputs": [
    {
     "data": {
      "text/html": [
       "<div>\n",
       "<style scoped>\n",
       "    .dataframe tbody tr th:only-of-type {\n",
       "        vertical-align: middle;\n",
       "    }\n",
       "\n",
       "    .dataframe tbody tr th {\n",
       "        vertical-align: top;\n",
       "    }\n",
       "\n",
       "    .dataframe thead th {\n",
       "        text-align: right;\n",
       "    }\n",
       "</style>\n",
       "<table border=\"1\" class=\"dataframe\">\n",
       "  <thead>\n",
       "    <tr style=\"text-align: right;\">\n",
       "      <th></th>\n",
       "      <th>AAPL</th>\n",
       "    </tr>\n",
       "    <tr>\n",
       "      <th>Date</th>\n",
       "      <th></th>\n",
       "    </tr>\n",
       "  </thead>\n",
       "  <tbody>\n",
       "    <tr>\n",
       "      <th>2010-01-04 00:00:00+00:00</th>\n",
       "      <td>0.015565</td>\n",
       "    </tr>\n",
       "    <tr>\n",
       "      <th>2010-01-05 00:00:00+00:00</th>\n",
       "      <td>0.001729</td>\n",
       "    </tr>\n",
       "    <tr>\n",
       "      <th>2010-01-06 00:00:00+00:00</th>\n",
       "      <td>-0.015906</td>\n",
       "    </tr>\n",
       "    <tr>\n",
       "      <th>2010-01-07 00:00:00+00:00</th>\n",
       "      <td>-0.001849</td>\n",
       "    </tr>\n",
       "    <tr>\n",
       "      <th>2010-01-08 00:00:00+00:00</th>\n",
       "      <td>0.006648</td>\n",
       "    </tr>\n",
       "  </tbody>\n",
       "</table>\n",
       "</div>"
      ],
      "text/plain": [
       "                               AAPL\n",
       "Date                               \n",
       "2010-01-04 00:00:00+00:00  0.015565\n",
       "2010-01-05 00:00:00+00:00  0.001729\n",
       "2010-01-06 00:00:00+00:00 -0.015906\n",
       "2010-01-07 00:00:00+00:00 -0.001849\n",
       "2010-01-08 00:00:00+00:00  0.006648"
      ]
     },
     "execution_count": 91,
     "metadata": {},
     "output_type": "execute_result"
    }
   ],
   "source": [
    "# view the data\n",
    "aapl_data.head()"
   ]
  },
  {
   "cell_type": "markdown",
   "metadata": {},
   "source": [
    "### Data Cleaning and Formatting"
   ]
  },
  {
   "cell_type": "markdown",
   "metadata": {},
   "source": [
    "Timezones in DatetimeIndex:    \n",
    "When working with financial data, it's crucial to be aware of timezones. As our data contains stock retutns, and dates are in UTC timezone, we will specifically converts the `timezone-aware DatetimeIndex` to a timezone-naive DatetimeIndex.    \n",
    "\n",
    "A timezone-naive DatetimeIndex does not have any timezone information associated with it. This conversion is essential for consistency and compatibility with various financial analysis tools and libraries.\n",
    "\n",
    "\n",
    "\n"
   ]
  },
  {
   "cell_type": "code",
   "execution_count": 77,
   "metadata": {},
   "outputs": [],
   "source": [
    "# converting time zone to none\n",
    "aapl_data.index = aapl.index.tz_convert(None)\n",
    "msft_data.index = msft.index.tz_convert(None)\n",
    "googl_data.index = googl.index.tz_convert(None)\n",
    "amzn_data.index = amzn.index.tz_convert(None)"
   ]
  },
  {
   "cell_type": "code",
   "execution_count": 79,
   "metadata": {},
   "outputs": [],
   "source": [
    "# Rename the columns\n",
    "aapl_data.columns = ['returns'] \n",
    "msft_data.columns = ['returns']\n",
    "googl_data.columns = ['returns']\n",
    "amzn_data.columns = ['returns']\n"
   ]
  },
  {
   "cell_type": "code",
   "execution_count": 80,
   "metadata": {},
   "outputs": [
    {
     "data": {
      "text/html": [
       "<div>\n",
       "<style scoped>\n",
       "    .dataframe tbody tr th:only-of-type {\n",
       "        vertical-align: middle;\n",
       "    }\n",
       "\n",
       "    .dataframe tbody tr th {\n",
       "        vertical-align: top;\n",
       "    }\n",
       "\n",
       "    .dataframe thead th {\n",
       "        text-align: right;\n",
       "    }\n",
       "</style>\n",
       "<table border=\"1\" class=\"dataframe\">\n",
       "  <thead>\n",
       "    <tr style=\"text-align: right;\">\n",
       "      <th></th>\n",
       "      <th>returns</th>\n",
       "    </tr>\n",
       "    <tr>\n",
       "      <th>Date</th>\n",
       "      <th></th>\n",
       "    </tr>\n",
       "  </thead>\n",
       "  <tbody>\n",
       "    <tr>\n",
       "      <th>2010-01-04</th>\n",
       "      <td>0.015565</td>\n",
       "    </tr>\n",
       "    <tr>\n",
       "      <th>2010-01-05</th>\n",
       "      <td>0.001729</td>\n",
       "    </tr>\n",
       "    <tr>\n",
       "      <th>2010-01-06</th>\n",
       "      <td>-0.015906</td>\n",
       "    </tr>\n",
       "    <tr>\n",
       "      <th>2010-01-07</th>\n",
       "      <td>-0.001849</td>\n",
       "    </tr>\n",
       "    <tr>\n",
       "      <th>2010-01-08</th>\n",
       "      <td>0.006648</td>\n",
       "    </tr>\n",
       "  </tbody>\n",
       "</table>\n",
       "</div>"
      ],
      "text/plain": [
       "             returns\n",
       "Date                \n",
       "2010-01-04  0.015565\n",
       "2010-01-05  0.001729\n",
       "2010-01-06 -0.015906\n",
       "2010-01-07 -0.001849\n",
       "2010-01-08  0.006648"
      ]
     },
     "execution_count": 80,
     "metadata": {},
     "output_type": "execute_result"
    }
   ],
   "source": [
    "# Display the first few rows of the appl_data\n",
    "aapl_data.head()"
   ]
  },
  {
   "cell_type": "code",
   "execution_count": 82,
   "metadata": {},
   "outputs": [
    {
     "data": {
      "text/html": [
       "<div>\n",
       "<style scoped>\n",
       "    .dataframe tbody tr th:only-of-type {\n",
       "        vertical-align: middle;\n",
       "    }\n",
       "\n",
       "    .dataframe tbody tr th {\n",
       "        vertical-align: top;\n",
       "    }\n",
       "\n",
       "    .dataframe thead th {\n",
       "        text-align: right;\n",
       "    }\n",
       "</style>\n",
       "<table border=\"1\" class=\"dataframe\">\n",
       "  <thead>\n",
       "    <tr style=\"text-align: right;\">\n",
       "      <th></th>\n",
       "      <th>returns</th>\n",
       "    </tr>\n",
       "    <tr>\n",
       "      <th>Date</th>\n",
       "      <th></th>\n",
       "    </tr>\n",
       "  </thead>\n",
       "  <tbody>\n",
       "    <tr>\n",
       "      <th>2010-01-04</th>\n",
       "      <td>0.015420</td>\n",
       "    </tr>\n",
       "    <tr>\n",
       "      <th>2010-01-05</th>\n",
       "      <td>0.000323</td>\n",
       "    </tr>\n",
       "    <tr>\n",
       "      <th>2010-01-06</th>\n",
       "      <td>-0.006137</td>\n",
       "    </tr>\n",
       "    <tr>\n",
       "      <th>2010-01-07</th>\n",
       "      <td>-0.010400</td>\n",
       "    </tr>\n",
       "    <tr>\n",
       "      <th>2010-01-08</th>\n",
       "      <td>0.006897</td>\n",
       "    </tr>\n",
       "  </tbody>\n",
       "</table>\n",
       "</div>"
      ],
      "text/plain": [
       "             returns\n",
       "Date                \n",
       "2010-01-04  0.015420\n",
       "2010-01-05  0.000323\n",
       "2010-01-06 -0.006137\n",
       "2010-01-07 -0.010400\n",
       "2010-01-08  0.006897"
      ]
     },
     "execution_count": 82,
     "metadata": {},
     "output_type": "execute_result"
    }
   ],
   "source": [
    "msft_data.head()"
   ]
  },
  {
   "cell_type": "code",
   "execution_count": 83,
   "metadata": {},
   "outputs": [
    {
     "data": {
      "text/html": [
       "<div>\n",
       "<style scoped>\n",
       "    .dataframe tbody tr th:only-of-type {\n",
       "        vertical-align: middle;\n",
       "    }\n",
       "\n",
       "    .dataframe tbody tr th {\n",
       "        vertical-align: top;\n",
       "    }\n",
       "\n",
       "    .dataframe thead th {\n",
       "        text-align: right;\n",
       "    }\n",
       "</style>\n",
       "<table border=\"1\" class=\"dataframe\">\n",
       "  <thead>\n",
       "    <tr style=\"text-align: right;\">\n",
       "      <th></th>\n",
       "      <th>returns</th>\n",
       "    </tr>\n",
       "    <tr>\n",
       "      <th>Date</th>\n",
       "      <th></th>\n",
       "    </tr>\n",
       "  </thead>\n",
       "  <tbody>\n",
       "    <tr>\n",
       "      <th>2010-01-04</th>\n",
       "      <td>0.010920</td>\n",
       "    </tr>\n",
       "    <tr>\n",
       "      <th>2010-01-05</th>\n",
       "      <td>-0.004404</td>\n",
       "    </tr>\n",
       "    <tr>\n",
       "      <th>2010-01-06</th>\n",
       "      <td>-0.025209</td>\n",
       "    </tr>\n",
       "    <tr>\n",
       "      <th>2010-01-07</th>\n",
       "      <td>-0.023280</td>\n",
       "    </tr>\n",
       "    <tr>\n",
       "      <th>2010-01-08</th>\n",
       "      <td>0.013331</td>\n",
       "    </tr>\n",
       "  </tbody>\n",
       "</table>\n",
       "</div>"
      ],
      "text/plain": [
       "             returns\n",
       "Date                \n",
       "2010-01-04  0.010920\n",
       "2010-01-05 -0.004404\n",
       "2010-01-06 -0.025209\n",
       "2010-01-07 -0.023280\n",
       "2010-01-08  0.013331"
      ]
     },
     "execution_count": 83,
     "metadata": {},
     "output_type": "execute_result"
    }
   ],
   "source": [
    "googl_data.head()"
   ]
  },
  {
   "cell_type": "code",
   "execution_count": 84,
   "metadata": {},
   "outputs": [
    {
     "data": {
      "text/html": [
       "<div>\n",
       "<style scoped>\n",
       "    .dataframe tbody tr th:only-of-type {\n",
       "        vertical-align: middle;\n",
       "    }\n",
       "\n",
       "    .dataframe tbody tr th {\n",
       "        vertical-align: top;\n",
       "    }\n",
       "\n",
       "    .dataframe thead th {\n",
       "        text-align: right;\n",
       "    }\n",
       "</style>\n",
       "<table border=\"1\" class=\"dataframe\">\n",
       "  <thead>\n",
       "    <tr style=\"text-align: right;\">\n",
       "      <th></th>\n",
       "      <th>returns</th>\n",
       "    </tr>\n",
       "    <tr>\n",
       "      <th>Date</th>\n",
       "      <th></th>\n",
       "    </tr>\n",
       "  </thead>\n",
       "  <tbody>\n",
       "    <tr>\n",
       "      <th>2010-01-04</th>\n",
       "      <td>-0.004609</td>\n",
       "    </tr>\n",
       "    <tr>\n",
       "      <th>2010-01-05</th>\n",
       "      <td>0.005900</td>\n",
       "    </tr>\n",
       "    <tr>\n",
       "      <th>2010-01-06</th>\n",
       "      <td>-0.018116</td>\n",
       "    </tr>\n",
       "    <tr>\n",
       "      <th>2010-01-07</th>\n",
       "      <td>-0.017013</td>\n",
       "    </tr>\n",
       "    <tr>\n",
       "      <th>2010-01-08</th>\n",
       "      <td>0.027077</td>\n",
       "    </tr>\n",
       "  </tbody>\n",
       "</table>\n",
       "</div>"
      ],
      "text/plain": [
       "             returns\n",
       "Date                \n",
       "2010-01-04 -0.004609\n",
       "2010-01-05  0.005900\n",
       "2010-01-06 -0.018116\n",
       "2010-01-07 -0.017013\n",
       "2010-01-08  0.027077"
      ]
     },
     "execution_count": 84,
     "metadata": {},
     "output_type": "execute_result"
    }
   ],
   "source": [
    "amzn_data.head()"
   ]
  },
  {
   "cell_type": "markdown",
   "metadata": {},
   "source": [
    "### Feature Engineering for Machine Learning"
   ]
  },
  {
   "cell_type": "markdown",
   "metadata": {},
   "source": [
    "The success of machine learning models in financial analysis hinges on the quality and relevance of the features used for prediction. Feature engineering plays a critical role in extracting meaningful insights from raw data and enhancing the performance of predictive models. In this section, we will create a set of features that capture essential aspects of stock market behavior, including `technical indicators` and `fundamental metrics`.\n",
    "\n",
    "The focus is on generating features that are relevant, informative, and predictive of future stock price movements. By combining technical indicators, fundamental metrics, and other relevant features, we aim to develop a comprehensive feature set that can be used for machine learning-based stock price forecasting, volatility prediction, and classification tasks.\n",
    "\n",
    "####  Technical Indicators\n",
    "\n",
    "Technical indicators are mathematical calculations based on historical price and volume data that provide insights into market trends, momentum, volatility, and other key aspects of stock behavior. These indicators are widely used by traders and analysts to make informed decisions about buying, selling, or holding stocks. In this project, we will create a set of popular technical indicators that can be used as features for machine learning models.\n",
    "\n",
    "Technical indicators are mathematical calculations derived from historical price, volume, or open interest data in financial markets. They are widely used by traders, investors, and analysts to make informed decisions regarding market trends, momentum, and potential price movements. These indicators serve as tools to evaluate the behavior of securities and predict future market conditions, providing a quantitative basis for decision-making.\n",
    "\n",
    "* Categories of Technical Indicators\n",
    "\t1.\t**Trend Indicators**: These indicators identify the direction of market movements and help traders determine whether a market is in an uptrend, downtrend, or consolidating. Examples include:\n",
    "\t\t- `Moving Averages (MA)`: Smooths out price data to identify trends over time.\n",
    "\t\t- `MACD (Moving Average Convergence Divergence)`: Highlights changes in momentum and trend direction.\n",
    "\t\t- `Parabolic SAR`: Indicates potential reversals in market trends.\t\n",
    "\n",
    "\t2.\t**Momentum Indicators**: These indicators measure the speed and strength of price movements, helping traders identify overbought or oversold conditions. Examples include:\n",
    "\t\t- `Relative Strength Index (RSI)`: Measures the magnitude of recent price changes to evaluate overbought or oversold conditions.\n",
    "\t\t- `Stochastic Oscillator`: Compares a security's closing price to its price range over a specific period.\n",
    "\t\t- `Rate of Change (ROC)`: Measures the percentage change in price between the current price and a past price.\n",
    "\n",
    "\t3.\t**Volatility Indicators**: These indicators quantify the degree of price fluctuations in the market, helping traders assess risk and potential price movements. Examples include:\n",
    "\t\t- `Bollinger Bands`: Consist of a moving average and two standard deviation bands to identify price volatility.\n",
    "\t\t- `Average True Range (ATR)`: Measures market volatility by calculating the average range between price highs and lows.\n",
    "\t\t- `Keltner Channels`: Similar to Bollinger Bands, but use average true range to set channel boundaries.\n",
    "\n",
    "\t4.\t**Volume Indicators**: These indicators analyze trading volume to assess the strength of price movements and identify potential reversals. Examples include:\n",
    "\t\t- `On-Balance Volume (OBV)`: Tracks cumulative volume to predict price movements.\n",
    "\t\t- `Accumulation/Distribution Line`: Combines price and volume data to assess the flow of money in and out of a security.\n",
    "\t\t- `Chaikin Money Flow (CMF)`: Measures the buying and selling pressure for a security.\n",
    "\n",
    "\n",
    "#### Fundamental Metrics\n",
    "\n",
    "In addition to technical indicators, fundamental metrics provide valuable insights into a company's financial health, performance, and valuation. These metrics are derived from financial statements, earnings reports, and other fundamental data sources, offering a comprehensive view of a company's operations and prospects. By incorporating fundamental metrics into our feature set, we can enhance the predictive power of our machine learning models and gain a deeper understanding of the factors driving stock price movements.\n",
    "\n",
    "Fundamental metrics are quantitative data points derived from a company's financial statements, earnings reports, and other fundamental data sources. These metrics provide insights into a company's financial health, performance, valuation, and growth prospects, helping investors make informed decisions about stock investments. By analyzing fundamental metrics, investors can assess the intrinsic value of a company, evaluate its competitive position, and identify potential investment opportunities.\n",
    "\n",
    "\n",
    "* Categories of Fundamental Metrics\n",
    "\t1.\t**Valuation Metrics**: These metrics assess the relative value of a company's stock by comparing its market price to fundamental indicators such as earnings, book value, and cash flow. Examples include:\n",
    "\t\t- `Price-to-Earnings (P/E) Ratio`: Compares a company's stock price to its earnings per share to evaluate valuation.\n",
    "\t\t- `Price-to-Book (P/B) Ratio`: Compares a company's stock price to its book value per share to assess valuation.\n",
    "\t\t- `Price-to-Sales (P/S) Ratio`: Compares a company's stock price to its revenue per share to evaluate valuation.\n",
    "\n",
    "\t2.\t**Profitability Metrics**: These metrics measure a company's ability to generate profits and manage costs effectively. Examples include:\n",
    "\t\t- `Return on Equity (ROE)`: Measures a company's profitability by evaluating its return on shareholders' equity.\n",
    "\t\t- `Net Profit Margin`: Measures the percentage of revenue that translates into profit after accounting for expenses.\n",
    "\t\t- `Operating Margin`: Measures the percentage of revenue that translates into profit after accounting for operating expenses.\n",
    "\n",
    "\t3.\t**Growth Metrics**: These metrics assess a company's growth prospects and potential for future expansion. Examples include:\n",
    "\t\t- `Revenue Growth Rate`: Measures the percentage increase in a company's revenue over a specific period.\n",
    "\t\t- `Earnings Growth Rate`: Measures the percentage increase in a company's earnings over a specific period.\n",
    "\t\t- `Dividend Yield`: Measures the percentage of dividends paid relative to a company's stock price.\n",
    "\n",
    "\t4.\t**Financial Health Metrics**: These metrics evaluate a company's financial stability, liquidity, and debt levels. Examples include:\n",
    "\t\t- `Debt-to-Equity Ratio`: Measures a company's debt relative to its equity to assess financial leverage.\n",
    "\t\t- `Current Ratio`: Measures a company's ability to cover short-term liabilities with its short-term assets.\n",
    "\t\t- `Interest Coverage Ratio`: Measures a company's ability to pay interest on its debt with its earnings."
   ]
  },
  {
   "cell_type": "code",
   "execution_count": null,
   "metadata": {},
   "outputs": [],
   "source": []
  },
  {
   "cell_type": "markdown",
   "metadata": {},
   "source": [
    "### Technical Indicators"
   ]
  },
  {
   "cell_type": "code",
   "execution_count": 92,
   "metadata": {},
   "outputs": [
    {
     "name": "stderr",
     "output_type": "stream",
     "text": [
      "[*********************100%***********************]  1 of 1 completed\n",
      "[*********************100%***********************]  1 of 1 completed\n",
      "[*********************100%***********************]  1 of 1 completed\n",
      "[*********************100%***********************]  1 of 1 completed\n"
     ]
    }
   ],
   "source": [
    "import yfinance as yf\n",
    "import pandas as pd\n",
    "from ta import momentum, trend, volatility\n",
    "\n",
    "# List of stock tickers\n",
    "tickers = [\"AAPL\", \"MSFT\", \"GOOGL\", \"AMZN\"]\n",
    "\n",
    "# Fetch historical data for all stocks\n",
    "data = {ticker: yf.download(ticker, start=\"2015-01-01\", end=\"2024-01-01\") for ticker in tickers}\n",
    "\n",
    "# Convert to a single DataFrame (optional)\n",
    "all_data = pd.concat({ticker: data[ticker] for ticker in tickers}, axis=1)\n"
   ]
  },
  {
   "cell_type": "code",
   "execution_count": 93,
   "metadata": {},
   "outputs": [
    {
     "ename": "ValueError",
     "evalue": "The truth value of a DataFrame is ambiguous. Use a.empty, a.bool(), a.item(), a.any() or a.all().",
     "output_type": "error",
     "traceback": [
      "\u001b[0;31m---------------------------------------------------------------------------\u001b[0m",
      "\u001b[0;31mValueError\u001b[0m                                Traceback (most recent call last)",
      "\u001b[0;32m/var/folders/v9/v9j8bf6j2r5cr97thvfgxxyh0000gn/T/ipykernel_16993/994591352.py\u001b[0m in \u001b[0;36m?\u001b[0;34m()\u001b[0m\n\u001b[1;32m      1\u001b[0m \u001b[0;32mfor\u001b[0m \u001b[0mticker\u001b[0m\u001b[0;34m,\u001b[0m \u001b[0mdf\u001b[0m \u001b[0;32min\u001b[0m \u001b[0mdata\u001b[0m\u001b[0;34m.\u001b[0m\u001b[0mitems\u001b[0m\u001b[0;34m(\u001b[0m\u001b[0;34m)\u001b[0m\u001b[0;34m:\u001b[0m\u001b[0;34m\u001b[0m\u001b[0;34m\u001b[0m\u001b[0m\n\u001b[0;32m----> 2\u001b[0;31m     \u001b[0mdf\u001b[0m\u001b[0;34m[\u001b[0m\u001b[0;34m'SMA_20'\u001b[0m\u001b[0;34m]\u001b[0m \u001b[0;34m=\u001b[0m \u001b[0mtrend\u001b[0m\u001b[0;34m.\u001b[0m\u001b[0msma_indicator\u001b[0m\u001b[0;34m(\u001b[0m\u001b[0mdf\u001b[0m\u001b[0;34m[\u001b[0m\u001b[0;34m'Close'\u001b[0m\u001b[0;34m]\u001b[0m\u001b[0;34m,\u001b[0m \u001b[0mwindow\u001b[0m\u001b[0;34m=\u001b[0m\u001b[0;36m20\u001b[0m\u001b[0;34m)\u001b[0m  \u001b[0;31m# 20-day Simple Moving Average\u001b[0m\u001b[0;34m\u001b[0m\u001b[0;34m\u001b[0m\u001b[0m\n\u001b[0m\u001b[1;32m      3\u001b[0m     \u001b[0mdf\u001b[0m\u001b[0;34m[\u001b[0m\u001b[0;34m'EMA_20'\u001b[0m\u001b[0;34m]\u001b[0m \u001b[0;34m=\u001b[0m \u001b[0mtrend\u001b[0m\u001b[0;34m.\u001b[0m\u001b[0mema_indicator\u001b[0m\u001b[0;34m(\u001b[0m\u001b[0mdf\u001b[0m\u001b[0;34m[\u001b[0m\u001b[0;34m'Close'\u001b[0m\u001b[0;34m]\u001b[0m\u001b[0;34m,\u001b[0m \u001b[0mwindow\u001b[0m\u001b[0;34m=\u001b[0m\u001b[0;36m20\u001b[0m\u001b[0;34m)\u001b[0m  \u001b[0;31m# 20-day Exponential Moving Average\u001b[0m\u001b[0;34m\u001b[0m\u001b[0;34m\u001b[0m\u001b[0m\n\u001b[1;32m      4\u001b[0m     \u001b[0mdf\u001b[0m\u001b[0;34m[\u001b[0m\u001b[0;34m'RSI'\u001b[0m\u001b[0;34m]\u001b[0m \u001b[0;34m=\u001b[0m \u001b[0mmomentum\u001b[0m\u001b[0;34m.\u001b[0m\u001b[0mrsi\u001b[0m\u001b[0;34m(\u001b[0m\u001b[0mdf\u001b[0m\u001b[0;34m[\u001b[0m\u001b[0;34m'Close'\u001b[0m\u001b[0;34m]\u001b[0m\u001b[0;34m,\u001b[0m \u001b[0mwindow\u001b[0m\u001b[0;34m=\u001b[0m\u001b[0;36m14\u001b[0m\u001b[0;34m)\u001b[0m  \u001b[0;31m# Relative Strength Index\u001b[0m\u001b[0;34m\u001b[0m\u001b[0;34m\u001b[0m\u001b[0m\n\u001b[1;32m      5\u001b[0m     \u001b[0mdf\u001b[0m\u001b[0;34m[\u001b[0m\u001b[0;34m'MACD'\u001b[0m\u001b[0;34m]\u001b[0m \u001b[0;34m=\u001b[0m \u001b[0mtrend\u001b[0m\u001b[0;34m.\u001b[0m\u001b[0mmacd\u001b[0m\u001b[0;34m(\u001b[0m\u001b[0mdf\u001b[0m\u001b[0;34m[\u001b[0m\u001b[0;34m'Close'\u001b[0m\u001b[0;34m]\u001b[0m\u001b[0;34m)\u001b[0m  \u001b[0;31m# MACD\u001b[0m\u001b[0;34m\u001b[0m\u001b[0;34m\u001b[0m\u001b[0m\n",
      "\u001b[0;32m~/anaconda3/envs/financial-ml-env/lib/python3.11/site-packages/ta/trend.py\u001b[0m in \u001b[0;36m?\u001b[0;34m(close, window, fillna)\u001b[0m\n\u001b[1;32m   1170\u001b[0m \u001b[0;34m\u001b[0m\u001b[0m\n\u001b[1;32m   1171\u001b[0m     \u001b[0mReturns\u001b[0m\u001b[0;34m:\u001b[0m\u001b[0;34m\u001b[0m\u001b[0;34m\u001b[0m\u001b[0m\n\u001b[1;32m   1172\u001b[0m         \u001b[0mpandas\u001b[0m\u001b[0;34m.\u001b[0m\u001b[0mSeries\u001b[0m\u001b[0;34m:\u001b[0m \u001b[0mNew\u001b[0m \u001b[0mfeature\u001b[0m \u001b[0mgenerated\u001b[0m\u001b[0;34m.\u001b[0m\u001b[0;34m\u001b[0m\u001b[0;34m\u001b[0m\u001b[0m\n\u001b[1;32m   1173\u001b[0m     \"\"\"\n\u001b[0;32m-> 1174\u001b[0;31m     \u001b[0;32mreturn\u001b[0m \u001b[0mSMAIndicator\u001b[0m\u001b[0;34m(\u001b[0m\u001b[0mclose\u001b[0m\u001b[0;34m=\u001b[0m\u001b[0mclose\u001b[0m\u001b[0;34m,\u001b[0m \u001b[0mwindow\u001b[0m\u001b[0;34m=\u001b[0m\u001b[0mwindow\u001b[0m\u001b[0;34m,\u001b[0m \u001b[0mfillna\u001b[0m\u001b[0;34m=\u001b[0m\u001b[0mfillna\u001b[0m\u001b[0;34m)\u001b[0m\u001b[0;34m.\u001b[0m\u001b[0msma_indicator\u001b[0m\u001b[0;34m(\u001b[0m\u001b[0;34m)\u001b[0m\u001b[0;34m\u001b[0m\u001b[0;34m\u001b[0m\u001b[0m\n\u001b[0m",
      "\u001b[0;32m~/anaconda3/envs/financial-ml-env/lib/python3.11/site-packages/ta/trend.py\u001b[0m in \u001b[0;36m?\u001b[0;34m(self)\u001b[0m\n\u001b[1;32m    199\u001b[0m         \u001b[0mReturns\u001b[0m\u001b[0;34m:\u001b[0m\u001b[0;34m\u001b[0m\u001b[0;34m\u001b[0m\u001b[0m\n\u001b[1;32m    200\u001b[0m             \u001b[0mpandas\u001b[0m\u001b[0;34m.\u001b[0m\u001b[0mSeries\u001b[0m\u001b[0;34m:\u001b[0m \u001b[0mNew\u001b[0m \u001b[0mfeature\u001b[0m \u001b[0mgenerated\u001b[0m\u001b[0;34m.\u001b[0m\u001b[0;34m\u001b[0m\u001b[0;34m\u001b[0m\u001b[0m\n\u001b[1;32m    201\u001b[0m         \"\"\"\n\u001b[1;32m    202\u001b[0m         \u001b[0msma_\u001b[0m \u001b[0;34m=\u001b[0m \u001b[0m_sma\u001b[0m\u001b[0;34m(\u001b[0m\u001b[0mself\u001b[0m\u001b[0;34m.\u001b[0m\u001b[0m_close\u001b[0m\u001b[0;34m,\u001b[0m \u001b[0mself\u001b[0m\u001b[0;34m.\u001b[0m\u001b[0m_window\u001b[0m\u001b[0;34m,\u001b[0m \u001b[0mself\u001b[0m\u001b[0;34m.\u001b[0m\u001b[0m_fillna\u001b[0m\u001b[0;34m)\u001b[0m\u001b[0;34m\u001b[0m\u001b[0;34m\u001b[0m\u001b[0m\n\u001b[0;32m--> 203\u001b[0;31m         \u001b[0;32mreturn\u001b[0m \u001b[0mpd\u001b[0m\u001b[0;34m.\u001b[0m\u001b[0mSeries\u001b[0m\u001b[0;34m(\u001b[0m\u001b[0msma_\u001b[0m\u001b[0;34m,\u001b[0m \u001b[0mname\u001b[0m\u001b[0;34m=\u001b[0m\u001b[0;34mf\"sma_{self._window}\"\u001b[0m\u001b[0;34m)\u001b[0m\u001b[0;34m\u001b[0m\u001b[0;34m\u001b[0m\u001b[0m\n\u001b[0m",
      "\u001b[0;32m~/anaconda3/envs/financial-ml-env/lib/python3.11/site-packages/pandas/core/series.py\u001b[0m in \u001b[0;36m?\u001b[0;34m(self, data, index, dtype, name, copy, fastpath)\u001b[0m\n\u001b[1;32m    382\u001b[0m         \u001b[0;32melse\u001b[0m\u001b[0;34m:\u001b[0m\u001b[0;34m\u001b[0m\u001b[0;34m\u001b[0m\u001b[0m\n\u001b[1;32m    383\u001b[0m \u001b[0;34m\u001b[0m\u001b[0m\n\u001b[1;32m    384\u001b[0m             \u001b[0mname\u001b[0m \u001b[0;34m=\u001b[0m \u001b[0mibase\u001b[0m\u001b[0;34m.\u001b[0m\u001b[0mmaybe_extract_name\u001b[0m\u001b[0;34m(\u001b[0m\u001b[0mname\u001b[0m\u001b[0;34m,\u001b[0m \u001b[0mdata\u001b[0m\u001b[0;34m,\u001b[0m \u001b[0mtype\u001b[0m\u001b[0;34m(\u001b[0m\u001b[0mself\u001b[0m\u001b[0;34m)\u001b[0m\u001b[0;34m)\u001b[0m\u001b[0;34m\u001b[0m\u001b[0;34m\u001b[0m\u001b[0m\n\u001b[1;32m    385\u001b[0m \u001b[0;34m\u001b[0m\u001b[0m\n\u001b[0;32m--> 386\u001b[0;31m             \u001b[0;32mif\u001b[0m \u001b[0mis_empty_data\u001b[0m\u001b[0;34m(\u001b[0m\u001b[0mdata\u001b[0m\u001b[0;34m)\u001b[0m \u001b[0;32mand\u001b[0m \u001b[0mdtype\u001b[0m \u001b[0;32mis\u001b[0m \u001b[0;32mNone\u001b[0m\u001b[0;34m:\u001b[0m\u001b[0;34m\u001b[0m\u001b[0;34m\u001b[0m\u001b[0m\n\u001b[0m\u001b[1;32m    387\u001b[0m                 \u001b[0;31m# gh-17261\u001b[0m\u001b[0;34m\u001b[0m\u001b[0;34m\u001b[0m\u001b[0m\n\u001b[1;32m    388\u001b[0m                 warnings.warn(\n\u001b[1;32m    389\u001b[0m                     \u001b[0;34m\"The default dtype for empty Series will be 'object' instead \"\u001b[0m\u001b[0;34m\u001b[0m\u001b[0;34m\u001b[0m\u001b[0m\n",
      "\u001b[0;32m~/anaconda3/envs/financial-ml-env/lib/python3.11/site-packages/pandas/core/construction.py\u001b[0m in \u001b[0;36m?\u001b[0;34m(data)\u001b[0m\n\u001b[1;32m    873\u001b[0m     \u001b[0mbool\u001b[0m\u001b[0;34m\u001b[0m\u001b[0;34m\u001b[0m\u001b[0m\n\u001b[1;32m    874\u001b[0m     \"\"\"\n\u001b[1;32m    875\u001b[0m     \u001b[0mis_none\u001b[0m \u001b[0;34m=\u001b[0m \u001b[0mdata\u001b[0m \u001b[0;32mis\u001b[0m \u001b[0;32mNone\u001b[0m\u001b[0;34m\u001b[0m\u001b[0;34m\u001b[0m\u001b[0m\n\u001b[1;32m    876\u001b[0m     \u001b[0mis_list_like_without_dtype\u001b[0m \u001b[0;34m=\u001b[0m \u001b[0mis_list_like\u001b[0m\u001b[0;34m(\u001b[0m\u001b[0mdata\u001b[0m\u001b[0;34m)\u001b[0m \u001b[0;32mand\u001b[0m \u001b[0;32mnot\u001b[0m \u001b[0mhasattr\u001b[0m\u001b[0;34m(\u001b[0m\u001b[0mdata\u001b[0m\u001b[0;34m,\u001b[0m \u001b[0;34m\"dtype\"\u001b[0m\u001b[0;34m)\u001b[0m\u001b[0;34m\u001b[0m\u001b[0;34m\u001b[0m\u001b[0m\n\u001b[0;32m--> 877\u001b[0;31m     \u001b[0mis_simple_empty\u001b[0m \u001b[0;34m=\u001b[0m \u001b[0mis_list_like_without_dtype\u001b[0m \u001b[0;32mand\u001b[0m \u001b[0;32mnot\u001b[0m \u001b[0mdata\u001b[0m\u001b[0;34m\u001b[0m\u001b[0;34m\u001b[0m\u001b[0m\n\u001b[0m\u001b[1;32m    878\u001b[0m     \u001b[0;32mreturn\u001b[0m \u001b[0mis_none\u001b[0m \u001b[0;32mor\u001b[0m \u001b[0mis_simple_empty\u001b[0m\u001b[0;34m\u001b[0m\u001b[0;34m\u001b[0m\u001b[0m\n",
      "\u001b[0;32m~/anaconda3/envs/financial-ml-env/lib/python3.11/site-packages/pandas/core/generic.py\u001b[0m in \u001b[0;36m?\u001b[0;34m(self)\u001b[0m\n\u001b[1;32m   1525\u001b[0m     \u001b[0;34m@\u001b[0m\u001b[0mfinal\u001b[0m\u001b[0;34m\u001b[0m\u001b[0;34m\u001b[0m\u001b[0m\n\u001b[1;32m   1526\u001b[0m     \u001b[0;32mdef\u001b[0m \u001b[0m__nonzero__\u001b[0m\u001b[0;34m(\u001b[0m\u001b[0mself\u001b[0m\u001b[0;34m)\u001b[0m \u001b[0;34m->\u001b[0m \u001b[0mNoReturn\u001b[0m\u001b[0;34m:\u001b[0m\u001b[0;34m\u001b[0m\u001b[0;34m\u001b[0m\u001b[0m\n\u001b[0;32m-> 1527\u001b[0;31m         raise ValueError(\n\u001b[0m\u001b[1;32m   1528\u001b[0m             \u001b[0;34mf\"The truth value of a {type(self).__name__} is ambiguous. \"\u001b[0m\u001b[0;34m\u001b[0m\u001b[0;34m\u001b[0m\u001b[0m\n\u001b[1;32m   1529\u001b[0m             \u001b[0;34m\"Use a.empty, a.bool(), a.item(), a.any() or a.all().\"\u001b[0m\u001b[0;34m\u001b[0m\u001b[0;34m\u001b[0m\u001b[0m\n\u001b[1;32m   1530\u001b[0m         )\n",
      "\u001b[0;31mValueError\u001b[0m: The truth value of a DataFrame is ambiguous. Use a.empty, a.bool(), a.item(), a.any() or a.all()."
     ]
    }
   ],
   "source": [
    "for ticker, df in data.items():\n",
    "    df['SMA_20'] = trend.sma_indicator(df['Close'], window=20)  # 20-day Simple Moving Average\n",
    "    df['EMA_20'] = trend.ema_indicator(df['Close'], window=20)  # 20-day Exponential Moving Average\n",
    "    df['RSI'] = momentum.rsi(df['Close'], window=14)  # Relative Strength Index\n",
    "    df['MACD'] = trend.macd(df['Close'])  # MACD\n",
    "    df['Bollinger_Upper'], df['Bollinger_Lower'] = volatility.bollinger_hband(df['Close']), volatility.bollinger_lband(df['Close'])  # Bollinger Bands\n"
   ]
  }
 ],
 "metadata": {
  "kernelspec": {
   "display_name": "financial-ml-env",
   "language": "python",
   "name": "python3"
  },
  "language_info": {
   "codemirror_mode": {
    "name": "ipython",
    "version": 3
   },
   "file_extension": ".py",
   "mimetype": "text/x-python",
   "name": "python",
   "nbconvert_exporter": "python",
   "pygments_lexer": "ipython3",
   "version": "3.11.10"
  }
 },
 "nbformat": 4,
 "nbformat_minor": 2
}
